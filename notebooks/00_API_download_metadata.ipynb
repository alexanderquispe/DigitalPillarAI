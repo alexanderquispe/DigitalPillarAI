{
 "cells": [
  {
   "cell_type": "markdown",
   "id": "3bffd923",
   "metadata": {
    "heading_collapsed": true,
    "lang": "fr"
   },
   "source": [
    "## Def"
   ]
  },
  {
   "cell_type": "code",
   "execution_count": 1,
   "id": "ff984c33",
   "metadata": {
    "ExecuteTime": {
     "end_time": "2023-07-17T21:27:57.982087Z",
     "start_time": "2023-07-17T21:27:57.962100Z"
    },
    "hidden": true
   },
   "outputs": [],
   "source": [
    "import requests\n",
    "import json\n",
    "import os\n",
    "from tqdm import tqdm\n",
    "\n",
    "def limpiar_consola():\n",
    "    os.system('cls' if os.name == 'nt' else 'clear')\n",
    "\n",
    "\n",
    "def scraper_pdf(cod_country):\n",
    "    # URL para obtener los datos JSON\n",
    "    url = f'https://search.worldbank.org/api/v2/wds?format=json&fct=docty_exact,count_exact,lang_exact,disclstat_exact&rows=0&apilang=en&docty_key=540656&order=desc&os=0&srt=docdt&countrycode_exact={cod_country}'\n",
    "\n",
    "    response = requests.get(url)\n",
    "    total_docs = response.json()['total']\n",
    "    print(total_docs)\n",
    "\n",
    "    if total_docs == 0:\n",
    "        return print('{} no contiene documentos'.format(total_docs))\n",
    "\n",
    "    # Obtener el JSON con todos los registros\n",
    "    url = f'https://search.worldbank.org/api/v2/wds?format=json&fct=docty_exact,count_exact,lang_exact,disclstat_exact&rows={total_docs}&apilang=en&docty_key=540656&order=desc&os=0&srt=docdt&countrycode_exact={cod_country}'\n",
    "    response = requests.get(url)\n",
    "    response = response.json()\n",
    "\n",
    "    output_json = 'output_json'\n",
    "    # Crear la carpeta  dentro de \"output\" si no existe\n",
    "    if not os.path.exists(output_json):\n",
    "        os.makedirs(output_json)\n",
    "\n",
    "    # Especificar la ruta y el nombre del archivo JSON\n",
    "    ruta_archivo = f\"./{output_json}/{cod_country}.json\"\n",
    "\n",
    "    # Escribir los datos en el archivo JSON\n",
    "    with open(ruta_archivo, \"w\") as archivo:\n",
    "        json.dump(response, archivo, indent=4)\n",
    "\n",
    "    print(\"Archivo JSON creado exitosamente.\")\n",
    "\n",
    "    # Crear la carpeta \"output\" si no existe\n",
    "    output_folder = \"output\"\n",
    "    if not os.path.exists(output_folder):\n",
    "        os.makedirs(output_folder)\n",
    "\n",
    "    # Crear la carpeta \"PE\" dentro de \"output\" si no existe\n",
    "    pe_folder = os.path.join(output_folder, cod_country)\n",
    "    if not os.path.exists(pe_folder):\n",
    "        os.makedirs(pe_folder)\n",
    "\n",
    "    # Cargar los datos del archivo JSON\n",
    "    with open(ruta_archivo) as archivo:\n",
    "        datos = json.load(archivo)\n",
    "\n",
    "    # Obtener la lista de documentos\n",
    "    documents = datos[\"documents\"]\n",
    "    len_docs = len(documents)\n",
    "\n",
    "    # Iterar sobre los documentos\n",
    "    for key, obj in tqdm(documents.items(), total=len_docs, unit='elemento', ncols=100):\n",
    "\n",
    "        if key == 'facets':\n",
    "            print(f'++++++++++++++++++++++++++++++++++ END {cod_country} ++++++++++++++++++++++++++++++++++')\n",
    "            break\n",
    "        name_id = obj['id'] # Él, id evitará obviar descargas.\n",
    "        print(f'Trabajando en doc {name_id}')\n",
    "        \n",
    "       \n",
    "        name_repnb = obj['repnb'] if 'repnb' in obj else 'observation'\n",
    "        extension_pdf = '.pdf'\n",
    "        extension_txt = '.txt'\n",
    "\n",
    "        lang = obj['lang']\n",
    "        another_lang = '' if lang == 'English' else '-' + lang.lower()\n",
    "\n",
    "        # Verificar si la clave \"pdfurl\" existe en el objeto\n",
    "        pdf_url = ''\n",
    "        if \"pdfurl\" in obj:\n",
    "            pdf_url = obj['pdfurl']\n",
    "        txt_url = ''    \n",
    "        if \"txturl\" in obj:\n",
    "            txt_url = obj['txturl']\n",
    "\n",
    "        name_pdf = name_repnb + '-' + name_id + another_lang + extension_pdf\n",
    "        name_txt = name_repnb + '-' + name_id + another_lang + extension_txt\n",
    "\n",
    "        # Ruta completa del archivo pdf en la carpeta\n",
    "        pdf_filename = os.path.join(pe_folder, name_pdf)\n",
    "        # Ruta completa del archivo txt en la carpeta\n",
    "        txt_filename = os.path.join(pe_folder, name_txt)\n",
    "\n",
    "        path_and_url = {pdf_filename: pdf_url, txt_filename: txt_url} if \"pdfurl\" in obj else {txt_filename: txt_url}\n",
    "\n",
    "        try:\n",
    "\n",
    "            for path, url in path_and_url.items():\n",
    "            # Verificar si el archivo ya existe\n",
    "                if not os.path.exists(path):\n",
    "                    # Descargar el archivo PDF\n",
    "\n",
    "                    try:\n",
    "                        output = requests.get(url)\n",
    "                        # Verificar si la descarga fue exitosa\n",
    "                        if output.status_code == 200:\n",
    "                            # Guardar el archivo en la carpeta\n",
    "                            with open(path, 'wb') as f:\n",
    "                                f.write(output.content)\n",
    "                            print(f'Se descargoo {path} de ID {name_id}.')\n",
    "                        else:\n",
    "                            print(f'NO!!! se pudo descargar {path} de ID {name_id}.')\n",
    "                    except requests.exceptions.RequestException as e:\n",
    "                        print(f\"Error al descargar el archivo {path} de ID {name_id}: {str(e)}\")\n",
    "\n",
    "        except:\n",
    "            print('no existe pdf ni txt en este doc')\n"
   ]
  },
  {
   "cell_type": "markdown",
   "id": "215472c4",
   "metadata": {
    "heading_collapsed": true
   },
   "source": [
    "## Aquí corren todos los países"
   ]
  },
  {
   "cell_type": "code",
   "execution_count": 4,
   "id": "dd319c96",
   "metadata": {},
   "outputs": [],
   "source": [
    "# !! install pip install pycountry\n",
    "import pycountry\n",
    "\n",
    "import requests\n",
    "import json\n",
    "import os\n",
    "from tqdm import tqdm\n",
    "# Get a list of all countries\n",
    "countries = list(pycountry.countries)\n",
    "\n",
    "# Extract the alpha_2 country codes and put them in a list\n",
    "country_codes = [country.alpha_2 for country in countries]\n",
    "\n",
    "len_codes = len(country_codes)\n",
    "\n",
    "\n",
    "def limpiar_consola():\n",
    "    os.system('cls' if os.name == 'nt' else 'clear')\n"
   ]
  },
  {
   "cell_type": "code",
   "execution_count": 5,
   "id": "a0c61dc6",
   "metadata": {
    "ExecuteTime": {
     "end_time": "2023-07-17T21:00:20.819558Z",
     "start_time": "2023-07-17T21:00:11.641450Z"
    },
    "hidden": true
   },
   "outputs": [],
   "source": [
    "\n",
    "\n",
    "def scraper_pdf(cod_country):\n",
    "    # URL para obtener los datos JSON\n",
    "    url = f'https://search.worldbank.org/api/v2/wds?format=json&fct=docty_exact,count_exact,lang_exact,disclstat_exact&rows=0&apilang=en&docty_key=540656&order=desc&os=0&srt=docdt&countrycode_exact={cod_country}'\n",
    "\n",
    "    response = requests.get(url)\n",
    "    total_docs = response.json()['total']\n",
    "    print(total_docs)\n",
    "\n",
    "    if total_docs == 0:\n",
    "        return print('{} no contiene documentos'.format(total_docs))\n",
    "\n",
    "    # Obtener el JSON con todos los registros\n",
    "    url = f'https://search.worldbank.org/api/v2/wds?format=json&fct=docty_exact,count_exact,lang_exact,disclstat_exact&rows={total_docs}&apilang=en&docty_key=540656&order=desc&os=0&srt=docdt&countrycode_exact={cod_country}'\n",
    "    response = requests.get(url)\n",
    "    response = response.json()\n",
    "\n",
    "    output_json = 'output_json'\n",
    "    # Crear la carpeta  dentro de \"output\" si no existe\n",
    "    if not os.path.exists(output_json):\n",
    "        os.makedirs(output_json)\n",
    "\n",
    "    # Especificar la ruta y el nombre del archivo JSON\n",
    "    ruta_archivo = f\"./{output_json}/{cod_country}.json\"\n",
    "\n",
    "    # Escribir los datos en el archivo JSON\n",
    "    with open(ruta_archivo, \"w\") as archivo:\n",
    "        json.dump(response, archivo, indent=4)\n",
    "\n",
    "    print(\"Archivo JSON creado exitosamente.\")\n",
    "\n",
    "    # Crear la carpeta \"output\" si no existe\n",
    "    output_folder = \"output\"\n",
    "    if not os.path.exists(output_folder):\n",
    "        os.makedirs(output_folder)\n",
    "\n",
    "    # Crear la carpeta \"PE\" dentro de \"output\" si no existe\n",
    "    pe_folder = os.path.join(output_folder, cod_country)\n",
    "    if not os.path.exists(pe_folder):\n",
    "        os.makedirs(pe_folder)\n",
    "\n",
    "    # Cargar los datos del archivo JSON\n",
    "    with open(ruta_archivo) as archivo:\n",
    "        datos = json.load(archivo)\n",
    "\n",
    "    # Obtener la lista de documentos\n",
    "    documents = datos[\"documents\"]\n",
    "    len_docs = len(documents)\n",
    "\n",
    "    # Iterar sobre los documentos\n",
    "    for key, obj in tqdm(documents.items(), total=len_docs, unit='elemento', ncols=100):\n",
    "\n",
    "        if key == 'facets':\n",
    "            print(f'++++++++++++++++++++++++++++++++++ END {cod_country} ++++++++++++++++++++++++++++++++++')\n",
    "            break\n",
    "        name_id = obj['id'] # Él, id evitará obviar descargas.\n",
    "        print(f'Trabajando en doc {name_id}')\n",
    "        \n",
    "       \n",
    "        name_repnb = obj['repnb'] if 'repnb' in obj else 'observation'\n",
    "        extension_pdf = '.pdf'\n",
    "        extension_txt = '.txt'\n",
    "\n",
    "        lang = obj['lang']\n",
    "        another_lang = '' if lang == 'English' else '-' + lang.lower()\n",
    "\n",
    "        # Verificar si la clave \"pdfurl\" existe en el objeto\n",
    "        pdf_url = ''\n",
    "        if \"pdfurl\" in obj:\n",
    "            pdf_url = obj['pdfurl']\n",
    "        txt_url = ''    \n",
    "        if \"txturl\" in obj:\n",
    "            txt_url = obj['txturl']\n",
    "\n",
    "        name_pdf = name_repnb + '-' + name_id + another_lang + extension_pdf\n",
    "        name_txt = name_repnb + '-' + name_id + another_lang + extension_txt\n",
    "\n",
    "        # Ruta completa del archivo pdf en la carpeta\n",
    "        pdf_filename = os.path.join(pe_folder, name_pdf)\n",
    "        # Ruta completa del archivo txt en la carpeta\n",
    "        txt_filename = os.path.join(pe_folder, name_txt)\n",
    "\n",
    "        path_and_url = {pdf_filename: pdf_url, txt_filename: txt_url} if \"pdfurl\" in obj else {txt_filename: txt_url}\n",
    "\n",
    "        try:\n",
    "\n",
    "            for path, url in path_and_url.items():\n",
    "            # Verificar si el archivo ya existe\n",
    "                if not os.path.exists(path):\n",
    "                    # Descargar el archivo PDF\n",
    "\n",
    "                    try:\n",
    "                        output = requests.get(url)\n",
    "                        # Verificar si la descarga fue exitosa\n",
    "                        if output.status_code == 200:\n",
    "                            # Guardar el archivo en la carpeta\n",
    "                            with open(path, 'wb') as f:\n",
    "                                f.write(output.content)\n",
    "                            print(f'Se descargoo {path} de ID {name_id}.')\n",
    "                        else:\n",
    "                            print(f'NO!!! se pudo descargar {path} de ID {name_id}.')\n",
    "                    except requests.exceptions.RequestException as e:\n",
    "                        print(f\"Error al descargar el archivo {path} de ID {name_id}: {str(e)}\")\n",
    "\n",
    "        except:\n",
    "            print('no existe pdf ni txt en este doc')\n",
    "        limpiar_consola()\n",
    "    "
   ]
  },
  {
   "cell_type": "code",
   "execution_count": 6,
   "id": "1591cf44",
   "metadata": {},
   "outputs": [
    {
     "name": "stdout",
     "output_type": "stream",
     "text": [
      "51\n",
      "Archivo JSON creado exitosamente.\n"
     ]
    },
    {
     "name": "stderr",
     "output_type": "stream",
     "text": [
      "  0%|                                                                  | 0/52 [00:00<?, ?elemento/s]"
     ]
    },
    {
     "name": "stdout",
     "output_type": "stream",
     "text": [
      "Trabajando en doc 34119475\n"
     ]
    },
    {
     "name": "stderr",
     "output_type": "stream",
     "text": [
      "  2%|█                                                         | 1/52 [00:04<03:57,  4.66s/elemento]"
     ]
    },
    {
     "name": "stdout",
     "output_type": "stream",
     "text": [
      "no existe pdf ni txt en este doc\n",
      "Trabajando en doc 34073066\n",
      "Se descargoo output\\CM\\PAD5224-34073066.pdf de ID 34073066.\n"
     ]
    },
    {
     "name": "stderr",
     "output_type": "stream",
     "text": [
      "  4%|██▏                                                       | 2/52 [00:09<03:46,  4.53s/elemento]"
     ]
    },
    {
     "name": "stdout",
     "output_type": "stream",
     "text": [
      "Se descargoo output\\CM\\PAD5224-34073066.txt de ID 34073066.\n",
      "Trabajando en doc 33895688\n",
      "Se descargoo output\\CM\\PAD4605-33895688.pdf de ID 33895688.\n"
     ]
    },
    {
     "name": "stderr",
     "output_type": "stream",
     "text": [
      "  6%|███▎                                                      | 3/52 [00:14<04:00,  4.91s/elemento]"
     ]
    },
    {
     "name": "stdout",
     "output_type": "stream",
     "text": [
      "Se descargoo output\\CM\\PAD4605-33895688.txt de ID 33895688.\n",
      "Trabajando en doc 33819085\n"
     ]
    }
   ],
   "source": [
    "scraper_pdf(\"CM\")"
   ]
  },
  {
   "cell_type": "code",
   "execution_count": null,
   "id": "516d62fc",
   "metadata": {},
   "outputs": [],
   "source": []
  }
 ],
 "metadata": {
  "kernelspec": {
   "display_name": "Python 3 (ipykernel)",
   "language": "python",
   "name": "python3"
  },
  "language_info": {
   "codemirror_mode": {
    "name": "ipython",
    "version": 3
   },
   "file_extension": ".py",
   "mimetype": "text/x-python",
   "name": "python",
   "nbconvert_exporter": "python",
   "pygments_lexer": "ipython3",
   "version": "3.8.10"
  },
  "nbTranslate": {
   "displayLangs": [
    "*"
   ],
   "hotkey": "alt-t",
   "langInMainMenu": true,
   "sourceLang": "en",
   "targetLang": "fr",
   "useGoogleTranslate": true
  },
  "varInspector": {
   "cols": {
    "lenName": 16,
    "lenType": 16,
    "lenVar": 40
   },
   "kernels_config": {
    "python": {
     "delete_cmd_postfix": "",
     "delete_cmd_prefix": "del ",
     "library": "var_list.py",
     "varRefreshCmd": "print(var_dic_list())"
    },
    "r": {
     "delete_cmd_postfix": ") ",
     "delete_cmd_prefix": "rm(",
     "library": "var_list.r",
     "varRefreshCmd": "cat(var_dic_list()) "
    }
   },
   "oldHeight": 339.844,
   "position": {
    "height": "361.844px",
    "left": "1090px",
    "right": "20px",
    "top": "-10px",
    "width": "800px"
   },
   "types_to_exclude": [
    "module",
    "function",
    "builtin_function_or_method",
    "instance",
    "_Feature"
   ],
   "varInspector_section_display": "block",
   "window_display": false
  }
 },
 "nbformat": 4,
 "nbformat_minor": 5
}
