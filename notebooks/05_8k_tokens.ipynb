{
 "cells": [
  {
   "cell_type": "code",
   "execution_count": null,
   "metadata": {},
   "outputs": [],
   "source": [
    "import openai, pandas as pd\n",
    "from dotenv import load_dotenv\n",
    "from local_openai import contruct_summaries\n",
    "\n",
    "\n",
    "load_dotenv()\n",
    "\n",
    "data_missing = pd.read_csv(\"../output/csv/12_data.csv\")\n",
    "data_missing['proj_comps_num'] = data_missing['proj_comp'].apply(lambda x : len(x.split(' ')))\n",
    "data_8k = data_missing.query(\"proj_comps_num > 8000\")\n",
    "data_less = data_missing.query(\"proj_comps_num <= 8000\")"
   ]
  },
  {
   "cell_type": "code",
   "execution_count": null,
   "metadata": {},
   "outputs": [],
   "source": [
    "data_8k.shape"
   ]
  },
  {
   "cell_type": "code",
   "execution_count": null,
   "metadata": {},
   "outputs": [],
   "source": [
    "%%time\n",
    "data_8k['proj_comp'] = data_missing['proj_comp'].apply(lambda x: contruct_summaries(x))"
   ]
  },
  {
   "cell_type": "code",
   "execution_count": null,
   "metadata": {},
   "outputs": [],
   "source": [
    "final_data = pd.concat([data_8k, data_less])\n",
    "final_data.to_csv('../output/final_data_with_8k.csv')"
   ]
  }
 ],
 "metadata": {
  "language_info": {
   "name": "python"
  },
  "orig_nbformat": 4
 },
 "nbformat": 4,
 "nbformat_minor": 2
}
