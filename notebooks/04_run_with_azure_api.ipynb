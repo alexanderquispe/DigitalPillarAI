{
 "cells": [
  {
   "cell_type": "code",
   "execution_count": 6,
   "metadata": {},
   "outputs": [],
   "source": [
    "from recognizer.recognizer import AzureDocument \n",
    "import os\n",
    "import pickle"
   ]
  },
  {
   "cell_type": "markdown",
   "metadata": {},
   "source": [
    "### Save Data"
   ]
  },
  {
   "cell_type": "code",
   "execution_count": 2,
   "metadata": {},
   "outputs": [],
   "source": [
    "document = AzureDocument('pass_keys.json')"
   ]
  },
  {
   "cell_type": "code",
   "execution_count": 3,
   "metadata": {},
   "outputs": [
    {
     "name": "stdout",
     "output_type": "stream",
     "text": [
      "resources/sample-pdf/PAD2429-27868850.pdf output_data\\PAD2429.pkl\n",
      "resources/sample-pdf/PAD2618-31156674.pdf output_data\\PAD2618.pkl\n",
      "resources/sample-pdf/PAD2836-30640853.pdf output_data\\PAD2836.pkl\n",
      "resources/sample-pdf/PAD3007-33830179.pdf output_data\\PAD3007.pkl\n",
      "resources/sample-pdf/PAD3350-31584078.pdf output_data\\PAD3350.pkl\n",
      "resources/sample-pdf/PAD3718-33702307.pdf output_data\\PAD3718.pkl\n",
      "resources/sample-pdf/PAD4212-33334137.pdf output_data\\PAD4212.pkl\n",
      "resources/sample-pdf/PAD4679-33653190.pdf output_data\\PAD4679.pkl\n",
      "resources/sample-pdf/PAD5244-34010307.pdf output_data\\PAD5244.pkl\n"
     ]
    }
   ],
   "source": [
    "dir_pdfs = 'resources/sample-pdf/'\n",
    "sample_pdf = os.listdir(dir_pdfs)\n",
    "def repnb_f(name:str):\n",
    "\trepnb, _ = name.split(\"-\")\n",
    "\treturn repnb\n",
    "\n",
    "full_names_pdf = [f'{dir_pdfs}{x}' for x in sample_pdf]\n",
    "\n",
    "repnbs = [repnb_f(sample) for sample in sample_pdf]\n",
    "repnbs = [rf'output_data\\{x}.pkl' for x in repnbs]\n",
    "\n",
    "\n",
    "for pdf, data in zip(full_names_pdf, repnbs):\n",
    "\t# a  = not os.path.exists(data)\n",
    "\t# print(a)\n",
    "\tif not os.path.exists(data):\n",
    "\t\tprint(pdf, data)\n",
    "\t\tdocument.process_document(pdf, name = data)"
   ]
  },
  {
   "cell_type": "markdown",
   "metadata": {},
   "source": [
    "# Process"
   ]
  },
  {
   "cell_type": "code",
   "execution_count": 252,
   "metadata": {},
   "outputs": [
    {
     "name": "stdout",
     "output_type": "stream",
     "text": [
      "resources/sample-pdf/PAD2836-30640853.pdf output_data\\PAD2836.pkl\n"
     ]
    }
   ],
   "source": [
    "# 2017\n",
    "x = 3\n",
    "with open(repnbs[x], 'rb') as f:\n",
    "\tprint(full_names_pdf[x], repnbs[x])\n",
    "\ta = pickle.load(f)\n",
    "a['data_process'].iloc[:5, :]\n",
    "# save data\n",
    "all_data_pad = {}"
   ]
  },
  {
   "cell_type": "code",
   "execution_count": 257,
   "metadata": {},
   "outputs": [
    {
     "data": {
      "text/plain": [
       "['pageHeader',\n",
       " 'pageNumber',\n",
       " None,\n",
       " 'pageFooter',\n",
       " 'title',\n",
       " 'footnote',\n",
       " 'sectionHeading']"
      ]
     },
     "execution_count": 257,
     "metadata": {},
     "output_type": "execute_result"
    }
   ],
   "source": [
    "a['roles']"
   ]
  },
  {
   "cell_type": "code",
   "execution_count": 253,
   "metadata": {},
   "outputs": [
    {
     "data": {
      "text/plain": [
       "('II. PROJECT DESCRIPTION',\n",
       " 'solution for rural roads design will be assessed for the project by an independent assessment study')"
      ]
     },
     "execution_count": 253,
     "metadata": {},
     "output_type": "execute_result"
    }
   ],
   "source": [
    "import warnings\n",
    "warnings.filterwarnings('ignore')\n",
    "# model 2\n",
    "data = a['data_process'].query('role != \"title\"')\n",
    "# data\n",
    "h2 = ['project_description', 'implementation']\n",
    "trash = ['annex']\n",
    "data['lower'] = data['text_role'].str.lower()\n",
    "data['h2'] = data.apply(\n",
    "\tlambda row: \n",
    "\t\trow['lower'] \n",
    "\t\tif 'project description' in row['lower'] or 'implementation' \n",
    "\t\tin row['lower'] \n",
    "\t\t# if  any(k in row['lower'] for k in h2) \n",
    "\t\t# and not any(k in row['lower'] for k in trash)\n",
    "\t\telse None, axis=1\n",
    "\t)\n",
    "# data.dropna()\n",
    "data['h2'].fillna(method='ffill', inplace = True)\n",
    "data\n",
    "data = data.dropna()\n",
    "annex = data['h2'].str.contains('annex', case=False, na = False)\n",
    "implementation = data['h2'].str.contains('implementation', case=False, na = False)\n",
    "project_description = data[~(annex | implementation)]\n",
    "\n",
    "proj_desc_list = project_description['paragraph_content'].values\n",
    "proj_desc_text = \"\\n\".join(proj_desc_list)\n",
    "proj_desc_text\n",
    "project_description['h3'] = project_description.apply(\n",
    "\tlambda row: \n",
    "\t\trow['lower'] \n",
    "\t\tif 'project components' in row['lower'] \n",
    "\t\tor 'project beneficiaries' in row['lower'] \n",
    "\t\tor 'project cost and financing' in row['lower']\n",
    "\t\t# if  any(k in row['lower'] for k in h2) \n",
    "\t\t# and not any(k in row['lower'] for k in trash)\n",
    "\t\telse None, axis=1\n",
    "\t)\n",
    "\n",
    "project_description['h3'].fillna(method='ffill', inplace=True)\n",
    "project_description = project_description.dropna()\n",
    "\n",
    "components = project_description['h3'].str.contains('components', case=False)\n",
    "project_components = project_description[components]\n",
    "\n",
    "proj_comp_list = project_components.query('role != \"title\"')['paragraph_content'].values\n",
    "proj_comp_text = '\\n'.join(proj_comp_list)\n",
    "\n",
    "_, repnb_x = repnbs[x].split('\\\\')\n",
    "repnb_x, _ = repnb_x.split('.')\n",
    "\n",
    "content = {\n",
    "\t'proj_desc': {\n",
    "\t\t'content': proj_desc_text,\n",
    "\t},\n",
    "\t'proj_comp': {'content': proj_comp_text},\n",
    "}\n",
    "\n",
    "# proj_comp_list[[0, -1]]\n",
    "proj_desc_list[0], proj_desc_list[-1][-100:-1]"
   ]
  },
  {
   "cell_type": "code",
   "execution_count": 254,
   "metadata": {},
   "outputs": [
    {
     "data": {
      "text/plain": [
       "',000 was granted to the Republic of Guinea to finance preparation activities related to the project'"
      ]
     },
     "execution_count": 254,
     "metadata": {},
     "output_type": "execute_result"
    }
   ],
   "source": [
    "proj_comp_list[-1][-100:-1]"
   ]
  },
  {
   "cell_type": "code",
   "execution_count": 256,
   "metadata": {},
   "outputs": [
    {
     "ename": "AttributeError",
     "evalue": "'dict' object has no attribute 'role'",
     "output_type": "error",
     "traceback": [
      "\u001b[1;31m---------------------------------------------------------------------------\u001b[0m",
      "\u001b[1;31mAttributeError\u001b[0m                            Traceback (most recent call last)",
      "Cell \u001b[1;32mIn[256], line 1\u001b[0m\n\u001b[1;32m----> 1\u001b[0m a\u001b[39m.\u001b[39;49mrole\n",
      "\u001b[1;31mAttributeError\u001b[0m: 'dict' object has no attribute 'role'"
     ]
    }
   ],
   "source": [
    "a.role"
   ]
  },
  {
   "cell_type": "code",
   "execution_count": 208,
   "metadata": {},
   "outputs": [],
   "source": [
    "import json\n",
    "json_dir = \"output_json/\"\n",
    "with open(f'{json_dir}{repnb_x}.json', 'w') as j:\n",
    "\tjson.dump(all_data_pad, j)"
   ]
  }
 ],
 "metadata": {
  "kernelspec": {
   "display_name": "azure-formrecognizer-FLlgv7HA",
   "language": "python",
   "name": "python3"
  },
  "language_info": {
   "codemirror_mode": {
    "name": "ipython",
    "version": 3
   },
   "file_extension": ".py",
   "mimetype": "text/x-python",
   "name": "python",
   "nbconvert_exporter": "python",
   "pygments_lexer": "ipython3",
   "version": "3.8.10"
  },
  "orig_nbformat": 4
 },
 "nbformat": 4,
 "nbformat_minor": 2
}
