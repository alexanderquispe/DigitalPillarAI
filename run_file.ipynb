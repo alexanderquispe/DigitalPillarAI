{
 "cells": [
  {
   "cell_type": "code",
   "execution_count": 14,
   "metadata": {},
   "outputs": [],
   "source": [
    "import pandas as pd, os\n",
    "\n",
    "# add digittal project with abstract filter_1\n",
    "from source.c_is_digital_project import add_dp\n",
    "# Get project description, project componets\n",
    "from source.d_project_desc_components import get_context,  get_components\n",
    "# Get lines_text with azure api\n",
    "from source.e_azure_detect import AzureDocument\n",
    "# Clasification digital projects filter_2\n",
    "from source.g_pillars import classification, is_digital_filter2, valid_tokens\n",
    "from source.g_pillars import add_categories_cols"
   ]
  },
  {
   "cell_type": "markdown",
   "metadata": {},
   "source": [
    "## First Filter"
   ]
  },
  {
   "cell_type": "code",
   "execution_count": null,
   "metadata": {},
   "outputs": [],
   "source": [
    "data_original = \"data/csv/01_merged_data_with_powerBI.csv\"\n",
    "data = pd.read_csv(data_original)\n",
    "\n",
    "list_comparing = data.sample(5, random_state=999)\n",
    "eval = list_comparing.merge(data, how='left')"
   ]
  },
  {
   "cell_type": "code",
   "execution_count": null,
   "metadata": {},
   "outputs": [],
   "source": [
    "\n",
    "print(\"Enter the file path, it must contain the following columns ['projectid', 'txturl', 'pdfurl']\")\n",
    "print(\"\")\n",
    "\n",
    "digital_comparing = \"./00_test/test.csv\"\n",
    "if os.path.exists(digital_comparing):\n",
    "\twith_digital = pd.read_csv(digital_comparing)\n",
    "else: \n",
    "\twith_digital = add_dp(eval)\n",
    "\twith_digital.to_csv(digital_comparing)\n",
    "# eval"
   ]
  },
  {
   "cell_type": "markdown",
   "metadata": {},
   "source": [
    "Fitler with gpt (1)"
   ]
  },
  {
   "cell_type": "code",
   "execution_count": 19,
   "metadata": {},
   "outputs": [],
   "source": [
    "is_digital_project = with_digital.query('is_digital_project == 1')\n",
    "no_digital_project = with_digital.query('is_digital_project != 1')"
   ]
  },
  {
   "cell_type": "markdown",
   "metadata": {},
   "source": [
    "relevant columns"
   ]
  },
  {
   "cell_type": "code",
   "execution_count": 20,
   "metadata": {},
   "outputs": [
    {
     "data": {
      "text/html": [
       "<div>\n",
       "<style scoped>\n",
       "    .dataframe tbody tr th:only-of-type {\n",
       "        vertical-align: middle;\n",
       "    }\n",
       "\n",
       "    .dataframe tbody tr th {\n",
       "        vertical-align: top;\n",
       "    }\n",
       "\n",
       "    .dataframe thead th {\n",
       "        text-align: right;\n",
       "    }\n",
       "</style>\n",
       "<table border=\"1\" class=\"dataframe\">\n",
       "  <thead>\n",
       "    <tr style=\"text-align: right;\">\n",
       "      <th></th>\n",
       "      <th>projectid</th>\n",
       "      <th>txturl</th>\n",
       "      <th>pdfurl</th>\n",
       "      <th>project_description</th>\n",
       "      <th>project_components</th>\n",
       "    </tr>\n",
       "  </thead>\n",
       "  <tbody>\n",
       "    <tr>\n",
       "      <th>0</th>\n",
       "      <td>P161876</td>\n",
       "      <td>http://documents.worldbank.org/curated/en/4020...</td>\n",
       "      <td>http://documents.worldbank.org/curated/en/4020...</td>\n",
       "      <td>II. PROGRAM DESCRIPTION\\nA. Government Program...</td>\n",
       "      <td>None</td>\n",
       "    </tr>\n",
       "    <tr>\n",
       "      <th>4</th>\n",
       "      <td>P148850</td>\n",
       "      <td>http://documents.worldbank.org/curated/en/8823...</td>\n",
       "      <td>http://documents.worldbank.org/curated/en/8823...</td>\n",
       "      <td>III. PROJECT DESCRIPTION\\nA. Project Component...</td>\n",
       "      <td>A. Project Components\\n24. The project will in...</td>\n",
       "    </tr>\n",
       "  </tbody>\n",
       "</table>\n",
       "</div>"
      ],
      "text/plain": [
       "  projectid                                             txturl  \\\n",
       "0   P161876  http://documents.worldbank.org/curated/en/4020...   \n",
       "4   P148850  http://documents.worldbank.org/curated/en/8823...   \n",
       "\n",
       "                                              pdfurl  \\\n",
       "0  http://documents.worldbank.org/curated/en/4020...   \n",
       "4  http://documents.worldbank.org/curated/en/8823...   \n",
       "\n",
       "                                 project_description  \\\n",
       "0  II. PROGRAM DESCRIPTION\\nA. Government Program...   \n",
       "4  III. PROJECT DESCRIPTION\\nA. Project Component...   \n",
       "\n",
       "                                  project_components  \n",
       "0                                               None  \n",
       "4  A. Project Components\\n24. The project will in...  "
      ]
     },
     "execution_count": 20,
     "metadata": {},
     "output_type": "execute_result"
    }
   ],
   "source": [
    "cols = ['projectid', 'txturl', 'pdfurl']\n",
    "is_digital = is_digital_project[cols]\n",
    "is_digital['project_description'] = is_digital['txturl'].apply(lambda x: get_context(x))\n",
    "is_digital['project_components'] = is_digital['txturl'].apply(lambda x: get_components(x))\n",
    "is_digital"
   ]
  },
  {
   "cell_type": "markdown",
   "metadata": {},
   "source": [
    "2 attemp with azure "
   ]
  },
  {
   "cell_type": "code",
   "execution_count": 21,
   "metadata": {},
   "outputs": [],
   "source": [
    "print('enter the path of the pass_key file that contains the \"ENDPOINT\", \"API-KEY\"')\n",
    "azure = AzureDocument(\"./pass_keys.json\")\n",
    "def azure_text(row):\n",
    "\tif row['project_description'] is not None and row['project_components'] is not None:\n",
    "\t\treturn 'None'\n",
    "\t\t# row['project_description']\n",
    "\telse:\n",
    "\t\treturn azure.lines_data(row['pdfurl'])\n",
    "\t\n",
    "is_digital['data_text_azure'] = is_digital.apply(azure_text, axis=1)\n",
    "is_digital['project_description_azure'] = is_digital['data_text_azure'].apply(\n",
    "\tlambda x : get_context(x)\n",
    ")\n",
    "is_digital['project_components_azure'] = is_digital['data_text_azure'].apply(\n",
    "\tlambda x : get_components(x, url = None)\n",
    ")\n"
   ]
  },
  {
   "cell_type": "markdown",
   "metadata": {},
   "source": [
    "## Filter 2\n",
    "run gpt, classify projects"
   ]
  },
  {
   "cell_type": "code",
   "execution_count": 24,
   "metadata": {},
   "outputs": [],
   "source": [
    "is_digital['text_to_classification'] = is_digital.apply(valid_tokens, axis =1)\n",
    "\n",
    "is_digital['classification'] = is_digital['text_to_classification'].apply(lambda x: classification(x))\n"
   ]
  },
  {
   "cell_type": "code",
   "execution_count": 27,
   "metadata": {},
   "outputs": [],
   "source": [
    "# import json\n",
    "# is_digital['classification'] = is_digital['classification'].apply(lambda x: json.load(x))\n",
    "is_digital['is_dig_filter2'] = is_digital['classification'].apply(lambda x: is_digital_filter2(x))\n",
    "is_digital = add_categories_cols(is_digital)\n"
   ]
  },
  {
   "cell_type": "markdown",
   "metadata": {},
   "source": [
    "# Result"
   ]
  },
  {
   "cell_type": "code",
   "execution_count": null,
   "metadata": {},
   "outputs": [],
   "source": [
    "print('enter the path and name with the extension .csv to save the result')\n",
    "df = with_digital.merge(is_digital, how = 'left')\n",
    "print(df)\n",
    "df.to_csv('./00_test/result.csv')"
   ]
  },
  {
   "cell_type": "code",
   "execution_count": null,
   "metadata": {},
   "outputs": [],
   "source": []
  }
 ],
 "metadata": {
  "kernelspec": {
   "display_name": "project_components_detect-NNF4H-gH",
   "language": "python",
   "name": "python3"
  },
  "language_info": {
   "codemirror_mode": {
    "name": "ipython",
    "version": 3
   },
   "file_extension": ".py",
   "mimetype": "text/x-python",
   "name": "python",
   "nbconvert_exporter": "python",
   "pygments_lexer": "ipython3",
   "version": "3.8.10"
  },
  "orig_nbformat": 4
 },
 "nbformat": 4,
 "nbformat_minor": 2
}
