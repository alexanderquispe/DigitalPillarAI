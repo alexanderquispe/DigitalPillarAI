{
 "cells": [
  {
   "cell_type": "markdown",
   "id": "3bffd923",
   "metadata": {
    "heading_collapsed": true,
    "lang": "fr"
   },
   "source": [
    "## Def"
   ]
  },
  {
   "cell_type": "code",
   "execution_count": 3,
   "id": "74ffc55a",
   "metadata": {},
   "outputs": [
    {
     "name": "stdout",
     "output_type": "stream",
     "text": [
      "Collecting pycountry\n",
      "  Downloading pycountry-22.3.5.tar.gz (10.1 MB)\n",
      "  Installing build dependencies: started\n",
      "  Installing build dependencies: finished with status 'done'\n",
      "  Getting requirements to build wheel: started\n",
      "  Getting requirements to build wheel: finished with status 'done'\n",
      "  Preparing metadata (pyproject.toml): started\n",
      "  Preparing metadata (pyproject.toml): finished with status 'done'\n",
      "Requirement already satisfied: setuptools in c:\\users\\alexander\\anaconda3\\envs\\geopandas\\lib\\site-packages (from pycountry) (59.8.0)\n",
      "Building wheels for collected packages: pycountry\n",
      "  Building wheel for pycountry (pyproject.toml): started\n",
      "  Building wheel for pycountry (pyproject.toml): finished with status 'done'\n",
      "  Created wheel for pycountry: filename=pycountry-22.3.5-py2.py3-none-any.whl size=10681894 sha256=8734fee9962834565df5d716e9d0283c5ecf071f119c4e8b3838c80cca26cfba\n",
      "  Stored in directory: c:\\users\\alexander\\appdata\\local\\pip\\cache\\wheels\\47\\15\\92\\e6dc85fcb0686c82e1edbcfdf80cfe4808c058813fed0baa8f\n",
      "Successfully built pycountry\n",
      "Installing collected packages: pycountry\n",
      "Successfully installed pycountry-22.3.5\n",
      "Note: you may need to restart the kernel to use updated packages.\n"
     ]
    }
   ],
   "source": [
    "pip install pycountry"
   ]
  },
  {
   "cell_type": "code",
   "execution_count": 1,
   "id": "ff984c33",
   "metadata": {
    "ExecuteTime": {
     "end_time": "2023-07-17T21:27:57.982087Z",
     "start_time": "2023-07-17T21:27:57.962100Z"
    },
    "hidden": true
   },
   "outputs": [],
   "source": [
    "import requests\n",
    "import json\n",
    "import os\n",
    "from tqdm import tqdm\n",
    "\n",
    "def limpiar_consola():\n",
    "    os.system('cls' if os.name == 'nt' else 'clear')\n",
    "\n",
    "\n",
    "def scraper_pdf(cod_country):\n",
    "    # URL para obtener los datos JSON\n",
    "    url = f'https://search.worldbank.org/api/v2/wds?format=json&fct=docty_exact,count_exact,lang_exact,disclstat_exact&rows=0&apilang=en&docty_key=540656&order=desc&os=0&srt=docdt&countrycode_exact={cod_country}'\n",
    "\n",
    "    response = requests.get(url)\n",
    "    total_docs = response.json()['total']\n",
    "    print(total_docs)\n",
    "\n",
    "    if total_docs == 0:\n",
    "        return print('{} no contiene documentos'.format(total_docs))\n",
    "\n",
    "    # Obtener el JSON con todos los registros\n",
    "    url = f'https://search.worldbank.org/api/v2/wds?format=json&fct=docty_exact,count_exact,lang_exact,disclstat_exact&rows={total_docs}&apilang=en&docty_key=540656&order=desc&os=0&srt=docdt&countrycode_exact={cod_country}'\n",
    "    response = requests.get(url)\n",
    "    response = response.json()\n",
    "\n",
    "    output_json = 'output_json'\n",
    "    # Crear la carpeta  dentro de \"output\" si no existe\n",
    "    if not os.path.exists(output_json):\n",
    "        os.makedirs(output_json)\n",
    "\n",
    "    # Especificar la ruta y el nombre del archivo JSON\n",
    "    ruta_archivo = f\"./{output_json}/{cod_country}.json\"\n",
    "\n",
    "    # Escribir los datos en el archivo JSON\n",
    "    with open(ruta_archivo, \"w\") as archivo:\n",
    "        json.dump(response, archivo, indent=4)\n",
    "\n",
    "    print(\"Archivo JSON creado exitosamente.\")\n",
    "\n",
    "    # Crear la carpeta \"output\" si no existe\n",
    "    output_folder = \"output\"\n",
    "    if not os.path.exists(output_folder):\n",
    "        os.makedirs(output_folder)\n",
    "\n",
    "    # Crear la carpeta \"PE\" dentro de \"output\" si no existe\n",
    "    pe_folder = os.path.join(output_folder, cod_country)\n",
    "    if not os.path.exists(pe_folder):\n",
    "        os.makedirs(pe_folder)\n",
    "\n",
    "    # Cargar los datos del archivo JSON\n",
    "    with open(ruta_archivo) as archivo:\n",
    "        datos = json.load(archivo)\n",
    "\n",
    "    # Obtener la lista de documentos\n",
    "    documents = datos[\"documents\"]\n",
    "    len_docs = len(documents)\n",
    "\n",
    "    # Iterar sobre los documentos\n",
    "    for key, obj in tqdm(documents.items(), total=len_docs, unit='elemento', ncols=100):\n",
    "\n",
    "        if key == 'facets':\n",
    "            print(f'++++++++++++++++++++++++++++++++++ END {cod_country} ++++++++++++++++++++++++++++++++++')\n",
    "            break\n",
    "        name_id = obj['id'] # Él, id evitará obviar descargas.\n",
    "        print(f'Trabajando en doc {name_id}')\n",
    "        \n",
    "       \n",
    "        name_repnb = obj['repnb'] if 'repnb' in obj else 'observation'\n",
    "        extension_pdf = '.pdf'\n",
    "        extension_txt = '.txt'\n",
    "\n",
    "        lang = obj['lang']\n",
    "        another_lang = '' if lang == 'English' else '-' + lang.lower()\n",
    "\n",
    "        # Verificar si la clave \"pdfurl\" existe en el objeto\n",
    "        pdf_url = ''\n",
    "        if \"pdfurl\" in obj:\n",
    "            pdf_url = obj['pdfurl']\n",
    "        txt_url = ''    \n",
    "        if \"txturl\" in obj:\n",
    "            txt_url = obj['txturl']\n",
    "\n",
    "        name_pdf = name_repnb + '-' + name_id + another_lang + extension_pdf\n",
    "        name_txt = name_repnb + '-' + name_id + another_lang + extension_txt\n",
    "\n",
    "        # Ruta completa del archivo pdf en la carpeta\n",
    "        pdf_filename = os.path.join(pe_folder, name_pdf)\n",
    "        # Ruta completa del archivo txt en la carpeta\n",
    "        txt_filename = os.path.join(pe_folder, name_txt)\n",
    "\n",
    "        path_and_url = {pdf_filename: pdf_url, txt_filename: txt_url} if \"pdfurl\" in obj else {txt_filename: txt_url}\n",
    "\n",
    "        try:\n",
    "\n",
    "            for path, url in path_and_url.items():\n",
    "            # Verificar si el archivo ya existe\n",
    "                if not os.path.exists(path):\n",
    "                    # Descargar el archivo PDF\n",
    "\n",
    "                    try:\n",
    "                        output = requests.get(url)\n",
    "                        # Verificar si la descarga fue exitosa\n",
    "                        if output.status_code == 200:\n",
    "                            # Guardar el archivo en la carpeta\n",
    "                            with open(path, 'wb') as f:\n",
    "                                f.write(output.content)\n",
    "                            print(f'Se descargoo {path} de ID {name_id}.')\n",
    "                        else:\n",
    "                            print(f'NO!!! se pudo descargar {path} de ID {name_id}.')\n",
    "                    except requests.exceptions.RequestException as e:\n",
    "                        print(f\"Error al descargar el archivo {path} de ID {name_id}: {str(e)}\")\n",
    "\n",
    "        except:\n",
    "            print('no existe pdf ni txt en este doc')\n"
   ]
  },
  {
   "cell_type": "markdown",
   "id": "215472c4",
   "metadata": {
    "heading_collapsed": true
   },
   "source": [
    "## Aquí corren todos los países"
   ]
  },
  {
   "cell_type": "code",
   "execution_count": 2,
   "id": "a0c61dc6",
   "metadata": {
    "ExecuteTime": {
     "end_time": "2023-07-17T21:00:20.819558Z",
     "start_time": "2023-07-17T21:00:11.641450Z"
    },
    "hidden": true
   },
   "outputs": [
    {
     "name": "stderr",
     "output_type": "stream",
     "text": [
      "  0%|          | 0/249 [00:00<?, ?it/s]"
     ]
    },
    {
     "name": "stdout",
     "output_type": "stream",
     "text": [
      "iniciando raspado de AW\n"
     ]
    },
    {
     "name": "stderr",
     "output_type": "stream",
     "text": [
      "  0%|          | 1/249 [00:01<04:10,  1.01s/it]"
     ]
    },
    {
     "name": "stdout",
     "output_type": "stream",
     "text": [
      "0\n",
      "0 no contiene documentos\n",
      "iniciando raspado de AF\n",
      "35\n",
      "Archivo JSON creado exitosamente.\n"
     ]
    },
    {
     "name": "stderr",
     "output_type": "stream",
     "text": []
    },
    {
     "name": "stdout",
     "output_type": "stream",
     "text": [
      "Trabajando en doc 34112367\n",
      "Trabajando en doc 33836479\n",
      "Trabajando en doc 33841647\n",
      "Trabajando en doc 33813174\n",
      "Trabajando en doc 32791172\n",
      "Trabajando en doc 32602943\n",
      "Trabajando en doc 32394612\n",
      "Trabajando en doc 32297081\n"
     ]
    },
    {
     "name": "stderr",
     "output_type": "stream",
     "text": []
    },
    {
     "name": "stdout",
     "output_type": "stream",
     "text": [
      "Trabajando en doc 31921701\n",
      "Trabajando en doc 31524973\n",
      "Trabajando en doc 31429629\n",
      "Trabajando en doc 31429535\n",
      "Trabajando en doc 30977274\n",
      "Trabajando en doc 30660403\n",
      "Trabajando en doc 30748949\n",
      "Trabajando en doc 30761094\n",
      "Trabajando en doc 30423227\n",
      "Trabajando en doc 30423228\n",
      "Trabajando en doc 30254294\n",
      "Trabajando en doc 29741757\n",
      "Trabajando en doc 29731398\n",
      "Trabajando en doc 29773519\n",
      "Trabajando en doc 29160436\n",
      "Trabajando en doc 27541927\n",
      "Trabajando en doc 27520611\n",
      "Trabajando en doc 27356983\n"
     ]
    },
    {
     "name": "stderr",
     "output_type": "stream",
     "text": [
      " 97%|███████████████████████████████████████████████████████▍ | 35/36 [00:00<00:00, 65.53elemento/s]\n",
      "  1%|          | 2/249 [00:03<07:41,  1.87s/it]"
     ]
    },
    {
     "name": "stdout",
     "output_type": "stream",
     "text": [
      "Trabajando en doc 26854145\n",
      "Trabajando en doc 26492105\n",
      "Trabajando en doc 24331341\n",
      "Trabajando en doc 30570687\n",
      "Trabajando en doc 25106116\n",
      "Trabajando en doc 19532770\n",
      "Trabajando en doc 19387362\n",
      "Trabajando en doc 18495866\n",
      "Trabajando en doc 2149338\n",
      "++++++++++++++++++++++++++++++++++ END AF ++++++++++++++++++++++++++++++++++\n",
      "iniciando raspado de AO\n",
      "22\n",
      "Archivo JSON creado exitosamente.\n"
     ]
    },
    {
     "name": "stderr",
     "output_type": "stream",
     "text": []
    },
    {
     "name": "stdout",
     "output_type": "stream",
     "text": [
      "Trabajando en doc 34074674\n",
      "Trabajando en doc 33949915\n",
      "Trabajando en doc 33757881\n",
      "Trabajando en doc 33753842\n",
      "Trabajando en doc 33290483\n",
      "Trabajando en doc 31248386\n",
      "Trabajando en doc 31212411\n",
      "Trabajando en doc 29890547\n",
      "Trabajando en doc 29691574\n",
      "Trabajando en doc 27221182\n",
      "Trabajando en doc 26952755\n",
      "Trabajando en doc 26498796\n",
      "Trabajando en doc 18232412\n"
     ]
    },
    {
     "name": "stderr",
     "output_type": "stream",
     "text": []
    },
    {
     "name": "stdout",
     "output_type": "stream",
     "text": [
      "Trabajando en doc 12279143\n",
      "Trabajando en doc 11879934\n",
      "Trabajando en doc 9625350\n",
      "Trabajando en doc 9625643\n",
      "Trabajando en doc 5490565\n",
      "Trabajando en doc 2421336\n",
      "Trabajando en doc 2162097\n",
      "Trabajando en doc 437418\n"
     ]
    },
    {
     "name": "stderr",
     "output_type": "stream",
     "text": [
      " 96%|██████████████████████████████████████████████████████▌  | 22/23 [00:00<00:00, 45.11elemento/s]\n",
      "  1%|          | 3/249 [00:05<08:43,  2.13s/it]"
     ]
    },
    {
     "name": "stdout",
     "output_type": "stream",
     "text": [
      "Trabajando en doc 693650\n",
      "++++++++++++++++++++++++++++++++++ END AO ++++++++++++++++++++++++++++++++++\n",
      "iniciando raspado de AI\n"
     ]
    },
    {
     "name": "stderr",
     "output_type": "stream",
     "text": [
      "  2%|▏         | 4/249 [00:06<06:29,  1.59s/it]"
     ]
    },
    {
     "name": "stdout",
     "output_type": "stream",
     "text": [
      "0\n",
      "0 no contiene documentos\n",
      "iniciando raspado de AX\n"
     ]
    },
    {
     "name": "stderr",
     "output_type": "stream",
     "text": [
      "  2%|▏         | 5/249 [00:07<05:02,  1.24s/it]"
     ]
    },
    {
     "name": "stdout",
     "output_type": "stream",
     "text": [
      "0\n",
      "0 no contiene documentos\n",
      "iniciando raspado de AL\n",
      "52\n",
      "Archivo JSON creado exitosamente.\n"
     ]
    },
    {
     "name": "stderr",
     "output_type": "stream",
     "text": []
    },
    {
     "name": "stdout",
     "output_type": "stream",
     "text": [
      "Trabajando en doc 34051258\n",
      "Trabajando en doc 34010307\n",
      "Trabajando en doc 34010374\n",
      "Trabajando en doc 33804465\n",
      "Trabajando en doc 32312839\n",
      "Trabajando en doc 29792106\n",
      "Trabajando en doc 26901064\n",
      "Trabajando en doc 24888623\n",
      "Trabajando en doc 24139743\n",
      "Trabajando en doc 23981055\n",
      "Trabajando en doc 20198030\n",
      "Trabajando en doc 19702041\n",
      "Trabajando en doc 18606186\n",
      "Trabajando en doc 16930455\n",
      "Trabajando en doc 15933036\n"
     ]
    },
    {
     "name": "stderr",
     "output_type": "stream",
     "text": []
    },
    {
     "name": "stdout",
     "output_type": "stream",
     "text": [
      "Trabajando en doc 16290780\n",
      "Trabajando en doc 10617471\n",
      "Trabajando en doc 9572127\n",
      "Trabajando en doc 9492451\n",
      "Trabajando en doc 9443786\n",
      "Trabajando en doc 7364397\n",
      "Trabajando en doc 7367717\n",
      "Trabajando en doc 7110065\n",
      "Trabajando en doc 6855433\n",
      "Trabajando en doc 6788824\n",
      "Trabajando en doc 6621728\n",
      "Trabajando en doc 9846242\n"
     ]
    },
    {
     "name": "stderr",
     "output_type": "stream",
     "text": []
    },
    {
     "name": "stdout",
     "output_type": "stream",
     "text": [
      "Trabajando en doc 5877467\n",
      "Trabajando en doc 5814101\n",
      "Trabajando en doc 3492775\n",
      "Trabajando en doc 3044222\n",
      "Trabajando en doc 2971497\n",
      "Trabajando en doc 2368527\n",
      "Trabajando en doc 2125209\n",
      "Trabajando en doc 1802687\n",
      "Trabajando en doc 1797734\n",
      "Trabajando en doc 1695624\n",
      "Trabajando en doc 1121274\n",
      "Trabajando en doc 1121205\n"
     ]
    },
    {
     "name": "stderr",
     "output_type": "stream",
     "text": [
      " 98%|███████████████████████████████████████████████████████▉ | 52/53 [00:00<00:00, 66.87elemento/s]\n",
      "  2%|▏         | 6/249 [00:10<07:21,  1.82s/it]"
     ]
    },
    {
     "name": "stdout",
     "output_type": "stream",
     "text": [
      "Trabajando en doc 692975\n",
      "Trabajando en doc 437685\n",
      "Trabajando en doc 437792\n",
      "Trabajando en doc 693182\n",
      "Trabajando en doc 438124\n",
      "Trabajando en doc 438375\n",
      "Trabajando en doc 439631\n",
      "Trabajando en doc 440626\n",
      "Trabajando en doc 440850\n",
      "Trabajando en doc 438306\n",
      "Trabajando en doc 693607\n",
      "Trabajando en doc 693800\n",
      "Trabajando en doc 693898\n",
      "++++++++++++++++++++++++++++++++++ END AL ++++++++++++++++++++++++++++++++++\n",
      "iniciando raspado de AD\n"
     ]
    },
    {
     "name": "stderr",
     "output_type": "stream",
     "text": [
      "  3%|▎         | 7/249 [00:11<05:59,  1.48s/it]"
     ]
    },
    {
     "name": "stdout",
     "output_type": "stream",
     "text": [
      "0\n",
      "0 no contiene documentos\n",
      "iniciando raspado de AE\n"
     ]
    },
    {
     "name": "stderr",
     "output_type": "stream",
     "text": [
      "  3%|▎         | 8/249 [00:11<05:14,  1.31s/it]"
     ]
    },
    {
     "name": "stdout",
     "output_type": "stream",
     "text": [
      "0\n",
      "0 no contiene documentos\n",
      "iniciando raspado de AR\n",
      "120\n",
      "Archivo JSON creado exitosamente.\n"
     ]
    },
    {
     "name": "stderr",
     "output_type": "stream",
     "text": []
    },
    {
     "name": "stdout",
     "output_type": "stream",
     "text": [
      "Trabajando en doc 34091647\n",
      "Trabajando en doc 34076431\n",
      "Trabajando en doc 34076472\n",
      "Trabajando en doc 33996887\n",
      "Trabajando en doc 33937854\n",
      "Trabajando en doc 33819099\n",
      "Trabajando en doc 33723523\n",
      "Trabajando en doc 33723506\n",
      "Trabajando en doc 33790078\n",
      "Trabajando en doc 33631263\n",
      "Trabajando en doc 32998055\n",
      "Trabajando en doc 33084318\n",
      "Trabajando en doc 32914363\n",
      "Trabajando en doc 32815039\n"
     ]
    },
    {
     "name": "stderr",
     "output_type": "stream",
     "text": []
    },
    {
     "name": "stdout",
     "output_type": "stream",
     "text": [
      "Trabajando en doc 32113471\n",
      "Trabajando en doc 31921795\n",
      "Trabajando en doc 31592678\n",
      "Trabajando en doc 31330658\n",
      "Trabajando en doc 31167655\n",
      "Trabajando en doc 31517368\n",
      "Trabajando en doc 29881558\n",
      "Trabajando en doc 29757824\n",
      "Trabajando en doc 28878328\n",
      "Trabajando en doc 27407288\n",
      "Trabajando en doc 27180184\n",
      "Trabajando en doc 27184572\n",
      "Trabajando en doc 27417291\n",
      "Trabajando en doc 27176875\n",
      "Trabajando en doc 27419670\n",
      "Trabajando en doc 27499189\n",
      "Trabajando en doc 26913990\n",
      "Trabajando en doc 26484912\n"
     ]
    },
    {
     "name": "stderr",
     "output_type": "stream",
     "text": []
    },
    {
     "name": "stdout",
     "output_type": "stream",
     "text": [
      "Trabajando en doc 26440315\n",
      "Trabajando en doc 26611861\n",
      "Trabajando en doc 27299406\n",
      "Trabajando en doc 24534312\n",
      "Trabajando en doc 24534324\n",
      "Trabajando en doc 25486908\n",
      "Trabajando en doc 24734931\n",
      "Trabajando en doc 24173481\n",
      "Trabajando en doc 24982382\n",
      "Trabajando en doc 24173484\n",
      "Trabajando en doc 24204070\n"
     ]
    },
    {
     "name": "stderr",
     "output_type": "stream",
     "text": []
    },
    {
     "name": "stdout",
     "output_type": "stream",
     "text": [
      "Trabajando en doc 24982933\n",
      "Trabajando en doc 23070909\n",
      "Trabajando en doc 20369841\n",
      "Trabajando en doc 18203677\n",
      "Trabajando en doc 18505139\n",
      "Trabajando en doc 14035615\n",
      "Trabajando en doc 15473539\n",
      "Trabajando en doc 13923829\n"
     ]
    },
    {
     "name": "stderr",
     "output_type": "stream",
     "text": []
    },
    {
     "name": "stdout",
     "output_type": "stream",
     "text": [
      "Trabajando en doc 14867613\n",
      "Trabajando en doc 15049541\n",
      "Trabajando en doc 13716777\n",
      "Trabajando en doc 13548072\n",
      "Trabajando en doc 13994271\n",
      "Trabajando en doc 14821535\n",
      "Trabajando en doc 13181767\n",
      "Trabajando en doc 14990726\n",
      "Trabajando en doc 13185401\n",
      "Trabajando en doc 13181765\n",
      "Trabajando en doc 11968827\n",
      "Trabajando en doc 11864897\n",
      "Trabajando en doc 11244151\n",
      "Trabajando en doc 10572708\n",
      "Trabajando en doc 10573049\n"
     ]
    },
    {
     "name": "stderr",
     "output_type": "stream",
     "text": []
    },
    {
     "name": "stdout",
     "output_type": "stream",
     "text": [
      "Trabajando en doc 9831293\n",
      "Trabajando en doc 9831581\n",
      "Trabajando en doc 9680797\n",
      "Trabajando en doc 9588291\n",
      "Trabajando en doc 9543406\n",
      "Trabajando en doc 9047518\n",
      "Trabajando en doc 8880726\n",
      "Trabajando en doc 7725685\n",
      "Trabajando en doc 7711465\n",
      "Trabajando en doc 7712596\n",
      "Trabajando en doc 7706523\n",
      "Trabajando en doc 7592355\n",
      "Trabajando en doc 7408559\n",
      "Trabajando en doc 7173686\n",
      "Trabajando en doc 7135032\n",
      "Trabajando en doc 6870730\n",
      "Trabajando en doc 6795234\n"
     ]
    },
    {
     "name": "stderr",
     "output_type": "stream",
     "text": []
    },
    {
     "name": "stdout",
     "output_type": "stream",
     "text": [
      "Trabajando en doc 6795295\n",
      "Trabajando en doc 6647527\n",
      "Trabajando en doc 6584835\n",
      "Trabajando en doc 6445723\n",
      "Trabajando en doc 6479980\n",
      "Trabajando en doc 5866296\n",
      "Trabajando en doc 6242888\n",
      "Trabajando en doc 5843739\n",
      "Trabajando en doc 5666735\n",
      "Trabajando en doc 5348969\n",
      "Trabajando en doc 4123190\n",
      "Trabajando en doc 3060418\n",
      "Trabajando en doc 2808119\n",
      "Trabajando en doc 2047953\n",
      "Trabajando en doc 1631734\n"
     ]
    },
    {
     "name": "stderr",
     "output_type": "stream",
     "text": []
    },
    {
     "name": "stdout",
     "output_type": "stream",
     "text": [
      "Trabajando en doc 1346289\n",
      "Trabajando en doc 717485\n",
      "Trabajando en doc 729181\n",
      "Trabajando en doc 729164\n",
      "Trabajando en doc 439448\n",
      "Trabajando en doc 439547\n",
      "Trabajando en doc 440851\n",
      "Trabajando en doc 440634\n",
      "Trabajando en doc 442154\n",
      "Trabajando en doc 439559\n",
      "Trabajando en doc 442003\n",
      "Trabajando en doc 440552\n",
      "Trabajando en doc 442115\n",
      "Trabajando en doc 693663\n",
      "Trabajando en doc 693674\n",
      "Trabajando en doc 693733\n"
     ]
    },
    {
     "name": "stderr",
     "output_type": "stream",
     "text": [
      " 99%|██████████████████████████████████████████████████████▌| 120/121 [00:01<00:00, 67.19elemento/s]\n",
      "  4%|▎         | 9/249 [00:16<09:15,  2.32s/it]"
     ]
    },
    {
     "name": "stdout",
     "output_type": "stream",
     "text": [
      "Trabajando en doc 693788\n",
      "Trabajando en doc 693791\n",
      "Trabajando en doc 694703\n",
      "Trabajando en doc 694728\n",
      "Trabajando en doc 694838\n",
      "Trabajando en doc 694853\n",
      "++++++++++++++++++++++++++++++++++ END AR ++++++++++++++++++++++++++++++++++\n",
      "iniciando raspado de AM\n",
      "46\n",
      "Archivo JSON creado exitosamente.\n"
     ]
    },
    {
     "name": "stderr",
     "output_type": "stream",
     "text": []
    },
    {
     "name": "stdout",
     "output_type": "stream",
     "text": [
      "Trabajando en doc 33730090\n",
      "Trabajando en doc 26210616\n",
      "Trabajando en doc 25653164\n",
      "Trabajando en doc 24614949\n",
      "Trabajando en doc 24142289\n",
      "Trabajando en doc 24052529\n",
      "Trabajando en doc 19616004\n",
      "Trabajando en doc 19680370\n",
      "Trabajando en doc 19210058\n",
      "Trabajando en doc 19127891\n",
      "Trabajando en doc 17673111\n",
      "Trabajando en doc 17425462\n",
      "Trabajando en doc 16380088\n",
      "Trabajando en doc 15931877\n"
     ]
    },
    {
     "name": "stderr",
     "output_type": "stream",
     "text": []
    },
    {
     "name": "stdout",
     "output_type": "stream",
     "text": [
      "Trabajando en doc 15873221\n",
      "Trabajando en doc 14156543\n",
      "Trabajando en doc 13848315\n",
      "Trabajando en doc 13049591\n",
      "Trabajando en doc 11864906\n",
      "Trabajando en doc 10484330\n",
      "Trabajando en doc 10247711\n"
     ]
    },
    {
     "name": "stderr",
     "output_type": "stream",
     "text": []
    },
    {
     "name": "stdout",
     "output_type": "stream",
     "text": [
      "Trabajando en doc 10231482\n",
      "Trabajando en doc 7514219\n",
      "Trabajando en doc 7406998\n"
     ]
    },
    {
     "name": "stderr",
     "output_type": "stream",
     "text": []
    },
    {
     "name": "stdout",
     "output_type": "stream",
     "text": [
      "Trabajando en doc 7109969\n",
      "Trabajando en doc 6805002\n",
      "Trabajando en doc 6656648\n",
      "Trabajando en doc 5872966\n",
      "Trabajando en doc 6022242\n",
      "Trabajando en doc 5586348\n",
      "Trabajando en doc 3656371\n",
      "Trabajando en doc 3657744\n",
      "Trabajando en doc 3657733\n",
      "Trabajando en doc 3177697\n",
      "Trabajando en doc 11506177\n"
     ]
    },
    {
     "name": "stderr",
     "output_type": "stream",
     "text": []
    },
    {
     "name": "stdout",
     "output_type": "stream",
     "text": [
      "Trabajando en doc 2847550\n",
      "Trabajando en doc 1788057\n",
      "Trabajando en doc 1747040\n",
      "Trabajando en doc 1652157\n",
      "Trabajando en doc 1552065\n"
     ]
    },
    {
     "name": "stderr",
     "output_type": "stream",
     "text": [
      " 98%|███████████████████████████████████████████████████████▊ | 46/47 [00:00<00:00, 60.15elemento/s]\n",
      "  4%|▍         | 10/249 [00:19<10:18,  2.59s/it]"
     ]
    },
    {
     "name": "stdout",
     "output_type": "stream",
     "text": [
      "Trabajando en doc 693257\n",
      "Trabajando en doc 437643\n",
      "Trabajando en doc 437788\n",
      "Trabajando en doc 439719\n",
      "Trabajando en doc 438662\n",
      "Trabajando en doc 693531\n",
      "++++++++++++++++++++++++++++++++++ END AM ++++++++++++++++++++++++++++++++++\n",
      "iniciando raspado de AS\n"
     ]
    },
    {
     "name": "stderr",
     "output_type": "stream",
     "text": [
      "  4%|▍         | 11/249 [00:20<07:50,  1.98s/it]"
     ]
    },
    {
     "name": "stdout",
     "output_type": "stream",
     "text": [
      "0\n",
      "0 no contiene documentos\n",
      "iniciando raspado de AQ\n"
     ]
    },
    {
     "name": "stderr",
     "output_type": "stream",
     "text": [
      "  5%|▍         | 12/249 [00:20<06:15,  1.59s/it]"
     ]
    },
    {
     "name": "stdout",
     "output_type": "stream",
     "text": [
      "0\n",
      "0 no contiene documentos\n",
      "iniciando raspado de TF\n"
     ]
    },
    {
     "name": "stderr",
     "output_type": "stream",
     "text": [
      "  5%|▌         | 13/249 [00:22<05:42,  1.45s/it]"
     ]
    },
    {
     "name": "stdout",
     "output_type": "stream",
     "text": [
      "0\n",
      "0 no contiene documentos\n",
      "iniciando raspado de AG\n",
      "1\n",
      "Archivo JSON creado exitosamente.\n"
     ]
    },
    {
     "name": "stderr",
     "output_type": "stream",
     "text": [
      " 50%|█████████████████████████████▌                             | 1/2 [00:00<00:00, 63.21elemento/s]\n",
      "  6%|▌         | 14/249 [00:23<05:48,  1.48s/it]"
     ]
    },
    {
     "name": "stdout",
     "output_type": "stream",
     "text": [
      "Trabajando en doc 17723727\n",
      "++++++++++++++++++++++++++++++++++ END AG ++++++++++++++++++++++++++++++++++\n",
      "iniciando raspado de AU\n"
     ]
    },
    {
     "name": "stderr",
     "output_type": "stream",
     "text": [
      "  6%|▌         | 15/249 [00:24<04:54,  1.26s/it]"
     ]
    },
    {
     "name": "stdout",
     "output_type": "stream",
     "text": [
      "0\n",
      "0 no contiene documentos\n",
      "iniciando raspado de AT\n"
     ]
    },
    {
     "name": "stderr",
     "output_type": "stream",
     "text": [
      "  6%|▋         | 16/249 [00:25<04:16,  1.10s/it]"
     ]
    },
    {
     "name": "stdout",
     "output_type": "stream",
     "text": [
      "0\n",
      "0 no contiene documentos\n",
      "iniciando raspado de AZ\n",
      "42\n",
      "Archivo JSON creado exitosamente.\n"
     ]
    },
    {
     "name": "stderr",
     "output_type": "stream",
     "text": []
    },
    {
     "name": "stdout",
     "output_type": "stream",
     "text": [
      "Trabajando en doc 33970233\n",
      "Trabajando en doc 31844080\n",
      "Trabajando en doc 19705522\n",
      "Trabajando en doc 18246411\n",
      "Trabajando en doc 16387963\n",
      "Trabajando en doc 15256355\n",
      "Trabajando en doc 14020176\n",
      "Trabajando en doc 13843086\n",
      "Trabajando en doc 12203620\n"
     ]
    },
    {
     "name": "stderr",
     "output_type": "stream",
     "text": [
      "\n"
     ]
    },
    {
     "name": "stdout",
     "output_type": "stream",
     "text": [
      "Trabajando en doc 10658379\n",
      "Trabajando en doc 9484545\n",
      "Trabajando en doc 9484470\n"
     ]
    },
    {
     "name": "stderr",
     "output_type": "stream",
     "text": [
      " 28%|███████████████▉                                         | 12/43 [00:00<00:00, 61.82elemento/s]\u001b[A"
     ]
    },
    {
     "name": "stdout",
     "output_type": "stream",
     "text": [
      "Trabajando en doc 9483902\n",
      "Trabajando en doc 9423644\n",
      "Trabajando en doc 9423677\n",
      "Trabajando en doc 9346098\n",
      "Trabajando en doc 9064586\n",
      "Trabajando en doc 9064559\n",
      "Trabajando en doc 7655559\n",
      "Trabajando en doc 7432398\n",
      "Trabajando en doc 6855754\n",
      "Trabajando en doc 6846419\n",
      "Trabajando en doc 6855447\n",
      "Trabajando en doc 6500962\n",
      "Trabajando en doc 5795762\n",
      "Trabajando en doc 5816738\n"
     ]
    },
    {
     "name": "stderr",
     "output_type": "stream",
     "text": []
    },
    {
     "name": "stdout",
     "output_type": "stream",
     "text": [
      "Trabajando en doc 5567122\n",
      "Trabajando en doc 5509194\n",
      "Trabajando en doc 3661789\n",
      "Trabajando en doc 3486831\n",
      "Trabajando en doc 2364253\n",
      "Trabajando en doc 2295400\n",
      "Trabajando en doc 1803805\n",
      "Trabajando en doc 1346248\n",
      "Trabajando en doc 1121252\n",
      "Trabajando en doc 1121254\n",
      "Trabajando en doc 437414\n",
      "Trabajando en doc 441015\n",
      "Trabajando en doc 440858\n",
      "Trabajando en doc 440883\n",
      "Trabajando en doc 442200\n",
      "Trabajando en doc 442199\n"
     ]
    },
    {
     "name": "stderr",
     "output_type": "stream",
     "text": [
      " 98%|███████████████████████████████████████████████████████▋ | 42/43 [00:00<00:00, 68.48elemento/s]\n",
      "  7%|▋         | 17/249 [00:28<06:18,  1.63s/it]"
     ]
    },
    {
     "name": "stdout",
     "output_type": "stream",
     "text": [
      "++++++++++++++++++++++++++++++++++ END AZ ++++++++++++++++++++++++++++++++++\n",
      "iniciando raspado de BI\n",
      "34\n",
      "Archivo JSON creado exitosamente.\n"
     ]
    },
    {
     "name": "stderr",
     "output_type": "stream",
     "text": []
    },
    {
     "name": "stdout",
     "output_type": "stream",
     "text": [
      "Trabajando en doc 33898028\n",
      "Trabajando en doc 33835348\n",
      "Trabajando en doc 33653190\n",
      "Trabajando en doc 33167637\n",
      "Trabajando en doc 31962858\n",
      "Trabajando en doc 31771031\n",
      "Trabajando en doc 31801200\n",
      "Trabajando en doc 31345725\n",
      "Trabajando en doc 29883268\n",
      "Trabajando en doc 29768038\n",
      "Trabajando en doc 27882999\n",
      "Trabajando en doc 27176817\n",
      "Trabajando en doc 26988238\n"
     ]
    },
    {
     "name": "stderr",
     "output_type": "stream",
     "text": []
    },
    {
     "name": "stdout",
     "output_type": "stream",
     "text": [
      "Trabajando en doc 24430550\n",
      "Trabajando en doc 24309493\n",
      "Trabajando en doc 24189378\n",
      "Trabajando en doc 19340295\n",
      "Trabajando en doc 17590922\n",
      "Trabajando en doc 15821167\n",
      "Trabajando en doc 12085777\n",
      "Trabajando en doc 11449149\n",
      "Trabajando en doc 10582136\n",
      "Trabajando en doc 10582184\n",
      "Trabajando en doc 10932211\n",
      "Trabajando en doc 9386808\n",
      "Trabajando en doc 7425697\n",
      "Trabajando en doc 7358428\n"
     ]
    },
    {
     "name": "stderr",
     "output_type": "stream",
     "text": [
      " 97%|███████████████████████████████████████████████████████▎ | 34/35 [00:00<00:00, 69.02elemento/s]\n",
      "  7%|▋         | 18/249 [00:30<07:28,  1.94s/it]"
     ]
    },
    {
     "name": "stdout",
     "output_type": "stream",
     "text": [
      "Trabajando en doc 4916705\n",
      "Trabajando en doc 6474053\n",
      "Trabajando en doc 2853932\n",
      "Trabajando en doc 1806440\n",
      "Trabajando en doc 1047373\n",
      "Trabajando en doc 828288\n",
      "Trabajando en doc 440215\n",
      "++++++++++++++++++++++++++++++++++ END BI ++++++++++++++++++++++++++++++++++\n",
      "iniciando raspado de BE\n"
     ]
    },
    {
     "name": "stderr",
     "output_type": "stream",
     "text": [
      "  8%|▊         | 19/249 [00:31<06:15,  1.63s/it]"
     ]
    },
    {
     "name": "stdout",
     "output_type": "stream",
     "text": [
      "0\n",
      "0 no contiene documentos\n",
      "iniciando raspado de BJ\n",
      "46\n",
      "Archivo JSON creado exitosamente.\n"
     ]
    },
    {
     "name": "stderr",
     "output_type": "stream",
     "text": []
    },
    {
     "name": "stdout",
     "output_type": "stream",
     "text": [
      "Trabajando en doc 34071087\n",
      "Trabajando en doc 34018122\n",
      "Error al descargar el archivo output\\BJ\\PAD5031-34018122.txt de ID 34018122: Invalid URL '': No scheme supplied. Perhaps you meant https://?\n",
      "Trabajando en doc 33789588\n",
      "Trabajando en doc 33653494\n",
      "Trabajando en doc 33121054\n",
      "Trabajando en doc 32606865\n",
      "Trabajando en doc 32390644\n",
      "Trabajando en doc 32037167\n",
      "Trabajando en doc 32002940\n",
      "Trabajando en doc 31253506\n",
      "Trabajando en doc 31167658\n",
      "Trabajando en doc 31072338\n"
     ]
    },
    {
     "name": "stderr",
     "output_type": "stream",
     "text": []
    },
    {
     "name": "stdout",
     "output_type": "stream",
     "text": [
      "Trabajando en doc 31061395\n",
      "Trabajando en doc 30807800\n",
      "Trabajando en doc 30184857\n",
      "Trabajando en doc 29851591\n",
      "Trabajando en doc 27572448\n",
      "Trabajando en doc 27000738\n",
      "Trabajando en doc 26445579\n",
      "Trabajando en doc 26047469\n",
      "Trabajando en doc 19096468\n",
      "Trabajando en doc 18599613\n",
      "Trabajando en doc 17802371\n",
      "Trabajando en doc 16227260\n",
      "Trabajando en doc 13890070\n",
      "Trabajando en doc 12119517\n",
      "Trabajando en doc 11913201\n",
      "Trabajando en doc 13861556\n"
     ]
    },
    {
     "name": "stderr",
     "output_type": "stream",
     "text": []
    },
    {
     "name": "stdout",
     "output_type": "stream",
     "text": [
      "Trabajando en doc 10634396\n",
      "Trabajando en doc 9350140\n",
      "Trabajando en doc 8999187\n",
      "Trabajando en doc 7467752\n",
      "Trabajando en doc 6861544\n",
      "Trabajando en doc 6783044\n",
      "Trabajando en doc 6257282\n",
      "Trabajando en doc 5138534\n",
      "Trabajando en doc 4331520\n",
      "Trabajando en doc 1652152\n",
      "Trabajando en doc 1643403\n",
      "Trabajando en doc 437228\n",
      "Trabajando en doc 728559\n",
      "Trabajando en doc 438176\n",
      "Trabajando en doc 439635\n",
      "Trabajando en doc 441020\n",
      "Trabajando en doc 693545\n",
      "Trabajando en doc 693604\n"
     ]
    },
    {
     "name": "stderr",
     "output_type": "stream",
     "text": [
      " 98%|███████████████████████████████████████████████████████▊ | 46/47 [00:00<00:00, 70.61elemento/s]\n",
      "  8%|▊         | 20/249 [00:34<07:54,  2.07s/it]"
     ]
    },
    {
     "name": "stdout",
     "output_type": "stream",
     "text": [
      "++++++++++++++++++++++++++++++++++ END BJ ++++++++++++++++++++++++++++++++++\n",
      "iniciando raspado de BQ\n"
     ]
    },
    {
     "name": "stderr",
     "output_type": "stream",
     "text": [
      "  8%|▊         | 21/249 [00:35<06:17,  1.66s/it]"
     ]
    },
    {
     "name": "stdout",
     "output_type": "stream",
     "text": [
      "0\n",
      "0 no contiene documentos\n",
      "iniciando raspado de BF\n",
      "53\n",
      "Archivo JSON creado exitosamente.\n"
     ]
    },
    {
     "name": "stderr",
     "output_type": "stream",
     "text": []
    },
    {
     "name": "stdout",
     "output_type": "stream",
     "text": [
      "Trabajando en doc 33717689\n",
      "Trabajando en doc 33167615\n",
      "Trabajando en doc 33112962\n",
      "Trabajando en doc 32654763\n",
      "Trabajando en doc 32021235\n",
      "Trabajando en doc 31345757\n",
      "Trabajando en doc 31019835\n",
      "Trabajando en doc 30624905\n",
      "Trabajando en doc 30413033\n",
      "Trabajando en doc 30205078\n",
      "Trabajando en doc 30185475\n"
     ]
    },
    {
     "name": "stderr",
     "output_type": "stream",
     "text": [
      "\n"
     ]
    },
    {
     "name": "stdout",
     "output_type": "stream",
     "text": [
      "Trabajando en doc 29977341\n",
      "Trabajando en doc 27710331\n",
      "Trabajando en doc 27085177\n"
     ]
    },
    {
     "name": "stderr",
     "output_type": "stream",
     "text": [
      " 26%|██████████████▊                                          | 14/54 [00:00<00:00, 68.17elemento/s]\u001b[A"
     ]
    },
    {
     "name": "stdout",
     "output_type": "stream",
     "text": [
      "Trabajando en doc 27066335\n",
      "Trabajando en doc 26407080\n",
      "Trabajando en doc 25863820\n",
      "Trabajando en doc 24977936\n",
      "Trabajando en doc 24163228\n",
      "Trabajando en doc 19356483\n",
      "Trabajando en doc 18765473\n",
      "Trabajando en doc 17996748\n",
      "Trabajando en doc 17676876\n",
      "Trabajando en doc 17644262\n",
      "Trabajando en doc 17036930\n",
      "Trabajando en doc 15515855\n",
      "Trabajando en doc 15287488\n"
     ]
    },
    {
     "name": "stderr",
     "output_type": "stream",
     "text": [
      "\n"
     ]
    },
    {
     "name": "stdout",
     "output_type": "stream",
     "text": [
      "Trabajando en doc 14327305\n",
      "Trabajando en doc 14288068\n",
      "Trabajando en doc 11396091\n",
      "Trabajando en doc 10542869\n"
     ]
    },
    {
     "name": "stderr",
     "output_type": "stream",
     "text": [
      " 57%|████████████████████████████████▋                        | 31/54 [00:00<00:00, 77.33elemento/s]\u001b[A"
     ]
    },
    {
     "name": "stdout",
     "output_type": "stream",
     "text": [
      "Trabajando en doc 9459567\n",
      "Trabajando en doc 7845607\n",
      "Trabajando en doc 7592205\n",
      "Trabajando en doc 7457644\n",
      "Trabajando en doc 6827171\n",
      "Trabajando en doc 6831014\n",
      "Trabajando en doc 6716616\n",
      "Trabajando en doc 5640097\n",
      "Trabajando en doc 5303236\n"
     ]
    },
    {
     "name": "stderr",
     "output_type": "stream",
     "text": []
    },
    {
     "name": "stdout",
     "output_type": "stream",
     "text": [
      "Trabajando en doc 3930380\n",
      "Trabajando en doc 3027821\n",
      "Trabajando en doc 2171990\n",
      "Trabajando en doc 2140344\n",
      "Trabajando en doc 1936413\n",
      "Trabajando en doc 1774378\n",
      "Trabajando en doc 1647737\n"
     ]
    },
    {
     "name": "stderr",
     "output_type": "stream",
     "text": [
      " 98%|███████████████████████████████████████████████████████▉ | 53/54 [00:00<00:00, 74.85elemento/s]\n",
      "  9%|▉         | 22/249 [00:38<07:49,  2.07s/it]"
     ]
    },
    {
     "name": "stdout",
     "output_type": "stream",
     "text": [
      "Trabajando en doc 1346391\n",
      "Trabajando en doc 1000519\n",
      "Trabajando en doc 717518\n",
      "Trabajando en doc 441941\n",
      "Trabajando en doc 16953090\n",
      "Trabajando en doc 696133\n",
      "++++++++++++++++++++++++++++++++++ END BF ++++++++++++++++++++++++++++++++++\n",
      "iniciando raspado de BD\n",
      "121\n",
      "Archivo JSON creado exitosamente.\n"
     ]
    },
    {
     "name": "stderr",
     "output_type": "stream",
     "text": []
    },
    {
     "name": "stdout",
     "output_type": "stream",
     "text": [
      "Trabajando en doc 34078080\n",
      "Trabajando en doc 33935195\n",
      "Trabajando en doc 33840181\n",
      "Trabajando en doc 33836684\n",
      "Trabajando en doc 33758937\n",
      "Trabajando en doc 33723521\n",
      "Trabajando en doc 33660551\n",
      "Trabajando en doc 33217085\n",
      "Trabajando en doc 33048923\n",
      "Trabajando en doc 32872357\n",
      "Trabajando en doc 32851431\n",
      "Trabajando en doc 32501104\n",
      "Trabajando en doc 32391369\n",
      "Trabajando en doc 32093931\n"
     ]
    },
    {
     "name": "stderr",
     "output_type": "stream",
     "text": []
    },
    {
     "name": "stdout",
     "output_type": "stream",
     "text": [
      "Trabajando en doc 32103502\n",
      "Trabajando en doc 32103104\n",
      "Trabajando en doc 31956454\n",
      "Trabajando en doc 31866199\n",
      "Trabajando en doc 31847309\n",
      "Trabajando en doc 31189949\n",
      "Trabajando en doc 30907071\n",
      "Trabajando en doc 30861804\n",
      "Trabajando en doc 30838668\n",
      "Trabajando en doc 30625352\n",
      "Trabajando en doc 30484945\n",
      "Trabajando en doc 30440390\n",
      "Trabajando en doc 30440207\n",
      "Trabajando en doc 29935001\n",
      "Trabajando en doc 29722598\n",
      "Trabajando en doc 29703040\n",
      "Trabajando en doc 29722612\n"
     ]
    },
    {
     "name": "stderr",
     "output_type": "stream",
     "text": []
    },
    {
     "name": "stdout",
     "output_type": "stream",
     "text": [
      "Trabajando en doc 29510153\n",
      "Trabajando en doc 29267402\n",
      "Trabajando en doc 27746274\n",
      "Trabajando en doc 27746276\n",
      "Trabajando en doc 27348416\n",
      "Trabajando en doc 27295813\n",
      "Trabajando en doc 27295809\n",
      "Trabajando en doc 27096269\n",
      "Trabajando en doc 26557544\n",
      "Trabajando en doc 27118992\n",
      "Trabajando en doc 26379893\n",
      "Trabajando en doc 26378596\n",
      "Trabajando en doc 26097823\n",
      "Trabajando en doc 25518477\n",
      "Trabajando en doc 24512130\n",
      "Trabajando en doc 24512132\n",
      "Trabajando en doc 24080177\n",
      "Trabajando en doc 24101877\n"
     ]
    },
    {
     "name": "stderr",
     "output_type": "stream",
     "text": []
    },
    {
     "name": "stdout",
     "output_type": "stream",
     "text": [
      "Trabajando en doc 20433150\n",
      "Trabajando en doc 20427408\n",
      "Trabajando en doc 19456250\n",
      "Trabajando en doc 18928100\n",
      "Trabajando en doc 18637611\n",
      "Trabajando en doc 18612109\n",
      "Trabajando en doc 17819230\n",
      "Trabajando en doc 17819238\n",
      "Trabajando en doc 17429732\n",
      "Trabajando en doc 16732292\n",
      "Trabajando en doc 16702548\n",
      "Trabajando en doc 16698635\n",
      "Trabajando en doc 16698886\n",
      "Trabajando en doc 17816287\n"
     ]
    },
    {
     "name": "stderr",
     "output_type": "stream",
     "text": []
    },
    {
     "name": "stdout",
     "output_type": "stream",
     "text": [
      "Trabajando en doc 15882156\n",
      "Trabajando en doc 15528441\n",
      "Trabajando en doc 15234588\n",
      "Trabajando en doc 17177480\n",
      "Trabajando en doc 14395999\n",
      "Trabajando en doc 14156715\n",
      "Trabajando en doc 14089715\n",
      "Trabajando en doc 13751941\n",
      "Trabajando en doc 13720556\n",
      "Trabajando en doc 13049430\n",
      "Trabajando en doc 12384062\n"
     ]
    },
    {
     "name": "stderr",
     "output_type": "stream",
     "text": []
    },
    {
     "name": "stdout",
     "output_type": "stream",
     "text": [
      "Trabajando en doc 12389622\n",
      "Trabajando en doc 12315281\n",
      "Trabajando en doc 10491253\n",
      "Trabajando en doc 10298181\n",
      "Trabajando en doc 10014862\n",
      "Trabajando en doc 9936031\n",
      "Trabajando en doc 9664986\n",
      "Trabajando en doc 9552034\n",
      "Trabajando en doc 8971816\n",
      "Trabajando en doc 8193197\n",
      "Trabajando en doc 7671042\n",
      "Trabajando en doc 6874330\n",
      "Trabajando en doc 6725020\n",
      "Trabajando en doc 5727059\n"
     ]
    },
    {
     "name": "stderr",
     "output_type": "stream",
     "text": []
    },
    {
     "name": "stdout",
     "output_type": "stream",
     "text": [
      "Trabajando en doc 4073591\n",
      "Trabajando en doc 3745955\n",
      "Trabajando en doc 3746812\n",
      "Trabajando en doc 3570640\n",
      "Trabajando en doc 3486530\n",
      "Trabajando en doc 2879495\n",
      "Trabajando en doc 2363033\n",
      "Trabajando en doc 2362675\n",
      "Trabajando en doc 2362805\n",
      "Trabajando en doc 2155605\n",
      "Trabajando en doc 1816590\n",
      "Trabajando en doc 1801614\n",
      "Trabajando en doc 1756377\n",
      "Trabajando en doc 1703245\n",
      "Trabajando en doc 1003168\n",
      "Trabajando en doc 891710\n"
     ]
    },
    {
     "name": "stderr",
     "output_type": "stream",
     "text": []
    },
    {
     "name": "stdout",
     "output_type": "stream",
     "text": [
      "Trabajando en doc 828321\n",
      "Trabajando en doc 729281\n",
      "Trabajando en doc 729081\n",
      "Trabajando en doc 437676\n",
      "Trabajando en doc 437670\n",
      "Trabajando en doc 438355\n",
      "Trabajando en doc 440445\n",
      "Trabajando en doc 440615\n",
      "Trabajando en doc 440639\n",
      "Trabajando en doc 442172\n",
      "Trabajando en doc 441988\n",
      "Trabajando en doc 442099\n",
      "Trabajando en doc 442129\n",
      "Trabajando en doc 442203\n",
      "Trabajando en doc 693673\n",
      "Trabajando en doc 693962\n",
      "Trabajando en doc 693993\n"
     ]
    },
    {
     "name": "stderr",
     "output_type": "stream",
     "text": [
      " 99%|██████████████████████████████████████████████████████▌| 121/122 [00:01<00:00, 71.40elemento/s]\n",
      "  9%|▉         | 23/249 [00:44<12:05,  3.21s/it]"
     ]
    },
    {
     "name": "stdout",
     "output_type": "stream",
     "text": [
      "++++++++++++++++++++++++++++++++++ END BD ++++++++++++++++++++++++++++++++++\n",
      "iniciando raspado de BG\n",
      "18\n",
      "Archivo JSON creado exitosamente.\n"
     ]
    },
    {
     "name": "stderr",
     "output_type": "stream",
     "text": []
    },
    {
     "name": "stdout",
     "output_type": "stream",
     "text": [
      "Trabajando en doc 26011617\n",
      "Trabajando en doc 11310746\n",
      "Trabajando en doc 10003262\n",
      "Trabajando en doc 7698399\n",
      "Trabajando en doc 7425586\n",
      "Trabajando en doc 5639986\n",
      "Trabajando en doc 2827603\n",
      "Trabajando en doc 2369226\n",
      "Trabajando en doc 2340431\n",
      "Trabajando en doc 2075368\n",
      "Trabajando en doc 1796870\n",
      "Trabajando en doc 1121289\n",
      "Trabajando en doc 1000461\n",
      "Trabajando en doc 692818\n"
     ]
    },
    {
     "name": "stderr",
     "output_type": "stream",
     "text": [
      " 95%|██████████████████████████████████████████████████████   | 18/19 [00:00<00:00, 73.63elemento/s]\n",
      " 10%|▉         | 24/249 [00:46<11:16,  3.01s/it]"
     ]
    },
    {
     "name": "stdout",
     "output_type": "stream",
     "text": [
      "Trabajando en doc 437406\n",
      "Trabajando en doc 437719\n",
      "Trabajando en doc 441992\n",
      "Trabajando en doc 693327\n",
      "++++++++++++++++++++++++++++++++++ END BG ++++++++++++++++++++++++++++++++++\n",
      "iniciando raspado de BH\n"
     ]
    },
    {
     "name": "stderr",
     "output_type": "stream",
     "text": [
      " 10%|█         | 25/249 [00:47<08:50,  2.37s/it]"
     ]
    },
    {
     "name": "stdout",
     "output_type": "stream",
     "text": [
      "0\n",
      "0 no contiene documentos\n",
      "iniciando raspado de BS\n"
     ]
    },
    {
     "name": "stderr",
     "output_type": "stream",
     "text": [
      " 10%|█         | 26/249 [00:48<07:08,  1.92s/it]"
     ]
    },
    {
     "name": "stdout",
     "output_type": "stream",
     "text": [
      "0\n",
      "0 no contiene documentos\n",
      "iniciando raspado de BA\n",
      "50\n",
      "Archivo JSON creado exitosamente.\n"
     ]
    },
    {
     "name": "stderr",
     "output_type": "stream",
     "text": []
    },
    {
     "name": "stdout",
     "output_type": "stream",
     "text": [
      "Trabajando en doc 33858327\n",
      "Trabajando en doc 33765053\n",
      "Trabajando en doc 33765072\n",
      "Trabajando en doc 33603100\n",
      "Trabajando en doc 32602939\n",
      "Trabajando en doc 32008270\n",
      "Trabajando en doc 28189452\n",
      "Trabajando en doc 27360890\n",
      "Trabajando en doc 27035016\n",
      "Trabajando en doc 19712212\n"
     ]
    },
    {
     "name": "stderr",
     "output_type": "stream",
     "text": []
    },
    {
     "name": "stdout",
     "output_type": "stream",
     "text": [
      "Trabajando en doc 19456158\n",
      "Trabajando en doc 19127871\n",
      "Trabajando en doc 18741506\n",
      "Trabajando en doc 16815536\n",
      "Trabajando en doc 16228661\n",
      "Trabajando en doc 11768232\n",
      "Trabajando en doc 11449147\n",
      "Trabajando en doc 11349296\n",
      "Trabajando en doc 9992528\n",
      "Trabajando en doc 9447465\n",
      "Trabajando en doc 8735817\n"
     ]
    },
    {
     "name": "stderr",
     "output_type": "stream",
     "text": []
    },
    {
     "name": "stdout",
     "output_type": "stream",
     "text": [
      "Trabajando en doc 7667071\n",
      "Trabajando en doc 6831210\n",
      "Trabajando en doc 6716160\n",
      "Trabajando en doc 5828420\n",
      "Trabajando en doc 5808308\n",
      "Trabajando en doc 5662239\n",
      "Trabajando en doc 4355980\n",
      "Trabajando en doc 3742017\n",
      "Trabajando en doc 2361799\n",
      "Trabajando en doc 2355388\n"
     ]
    },
    {
     "name": "stderr",
     "output_type": "stream",
     "text": []
    },
    {
     "name": "stdout",
     "output_type": "stream",
     "text": [
      "Trabajando en doc 2162099\n",
      "Trabajando en doc 1798551\n",
      "Trabajando en doc 1723015\n",
      "Trabajando en doc 1695621\n",
      "Trabajando en doc 1346269\n",
      "Trabajando en doc 1346251\n",
      "Trabajando en doc 1346410\n",
      "Trabajando en doc 1346278\n",
      "Trabajando en doc 888111\n",
      "Trabajando en doc 717505\n",
      "Trabajando en doc 437447\n",
      "Trabajando en doc 437344\n",
      "Trabajando en doc 437773\n",
      "Trabajando en doc 439551\n",
      "Trabajando en doc 440619\n",
      "Trabajando en doc 440903\n"
     ]
    },
    {
     "name": "stderr",
     "output_type": "stream",
     "text": [
      " 98%|███████████████████████████████████████████████████████▉ | 50/51 [00:00<00:00, 50.08elemento/s]\n",
      " 11%|█         | 27/249 [00:51<08:18,  2.25s/it]"
     ]
    },
    {
     "name": "stdout",
     "output_type": "stream",
     "text": [
      "Trabajando en doc 441524\n",
      "Trabajando en doc 693618\n",
      "Trabajando en doc 693631\n",
      "++++++++++++++++++++++++++++++++++ END BA ++++++++++++++++++++++++++++++++++\n",
      "iniciando raspado de BL\n"
     ]
    },
    {
     "name": "stderr",
     "output_type": "stream",
     "text": [
      " 11%|█         | 28/249 [00:52<06:48,  1.85s/it]"
     ]
    },
    {
     "name": "stdout",
     "output_type": "stream",
     "text": [
      "0\n",
      "0 no contiene documentos\n",
      "iniciando raspado de BY\n",
      "16\n",
      "Archivo JSON creado exitosamente.\n"
     ]
    },
    {
     "name": "stderr",
     "output_type": "stream",
     "text": []
    },
    {
     "name": "stdout",
     "output_type": "stream",
     "text": [
      "Trabajando en doc 32011970\n",
      "Trabajando en doc 32079589\n",
      "Trabajando en doc 31480441\n",
      "Trabajando en doc 31121499\n",
      "Trabajando en doc 27979863\n",
      "Trabajando en doc 26913994\n",
      "Trabajando en doc 26053960\n",
      "Trabajando en doc 24982935\n",
      "Trabajando en doc 24140107\n",
      "Trabajando en doc 20467286\n",
      "Trabajando en doc 12915209\n",
      "Trabajando en doc 12330019\n",
      "Trabajando en doc 10542588\n",
      "Trabajando en doc 9846444\n"
     ]
    },
    {
     "name": "stderr",
     "output_type": "stream",
     "text": [
      " 94%|█████████████████████████████████████████████████████▋   | 16/17 [00:00<00:00, 67.80elemento/s]\n",
      " 12%|█▏        | 29/249 [00:54<06:46,  1.85s/it]"
     ]
    },
    {
     "name": "stdout",
     "output_type": "stream",
     "text": [
      "Trabajando en doc 6708386\n",
      "Trabajando en doc 1121218\n",
      "++++++++++++++++++++++++++++++++++ END BY ++++++++++++++++++++++++++++++++++\n",
      "iniciando raspado de BZ\n",
      "9\n",
      "Archivo JSON creado exitosamente.\n"
     ]
    },
    {
     "name": "stderr",
     "output_type": "stream",
     "text": []
    },
    {
     "name": "stdout",
     "output_type": "stream",
     "text": [
      "Trabajando en doc 33743952\n",
      "Trabajando en doc 33743929\n",
      "Trabajando en doc 26739579\n",
      "Trabajando en doc 23990354\n",
      "Trabajando en doc 20213560\n",
      "Trabajando en doc 19914285\n",
      "Trabajando en doc 12701569\n",
      "Trabajando en doc 693394\n",
      "Trabajando en doc 694948\n",
      "++++++++++++++++++++++++++++++++++ END BZ ++++++++++++++++++++++++++++++++++\n"
     ]
    },
    {
     "name": "stderr",
     "output_type": "stream",
     "text": [
      " 90%|████████████████████████████████████████████████████▏     | 9/10 [00:00<00:00, 52.06elemento/s]\n",
      " 12%|█▏        | 30/249 [00:56<06:55,  1.90s/it]"
     ]
    },
    {
     "name": "stdout",
     "output_type": "stream",
     "text": [
      "iniciando raspado de BM\n"
     ]
    },
    {
     "name": "stderr",
     "output_type": "stream",
     "text": [
      " 12%|█▏        | 31/249 [00:56<05:29,  1.51s/it]"
     ]
    },
    {
     "name": "stdout",
     "output_type": "stream",
     "text": [
      "0\n",
      "0 no contiene documentos\n",
      "iniciando raspado de BO\n",
      "43\n",
      "Archivo JSON creado exitosamente.\n"
     ]
    },
    {
     "name": "stderr",
     "output_type": "stream",
     "text": []
    },
    {
     "name": "stdout",
     "output_type": "stream",
     "text": [
      "Trabajando en doc 33876067\n",
      "Trabajando en doc 32025387\n",
      "Trabajando en doc 31747150\n",
      "Trabajando en doc 30198473\n",
      "Trabajando en doc 29935003\n",
      "Trabajando en doc 27059814\n",
      "Trabajando en doc 25218675\n",
      "Trabajando en doc 19775592"
     ]
    },
    {
     "name": "stderr",
     "output_type": "stream",
     "text": []
    },
    {
     "name": "stdout",
     "output_type": "stream",
     "text": [
      "\n",
      "Trabajando en doc 19573188\n",
      "Trabajando en doc 19533246\n",
      "Trabajando en doc 17480793\n",
      "Trabajando en doc 16834297\n",
      "Trabajando en doc 14495329\n",
      "Trabajando en doc 14813526\n",
      "Trabajando en doc 14069394\n",
      "Trabajando en doc 14581956\n",
      "Trabajando en doc 14786178\n",
      "Trabajando en doc 13267389\n",
      "Trabajando en doc 9030485\n",
      "Trabajando en doc 8918675\n",
      "Trabajando en doc 8828799\n",
      "Trabajando en doc 8828695\n",
      "Trabajando en doc 8476438\n"
     ]
    },
    {
     "name": "stderr",
     "output_type": "stream",
     "text": []
    },
    {
     "name": "stdout",
     "output_type": "stream",
     "text": [
      "Trabajando en doc 12330616\n",
      "Trabajando en doc 7982302\n",
      "Trabajando en doc 10810304\n",
      "Trabajando en doc 7170374\n",
      "Trabajando en doc 6060428\n"
     ]
    },
    {
     "name": "stderr",
     "output_type": "stream",
     "text": []
    },
    {
     "name": "stdout",
     "output_type": "stream",
     "text": [
      "Trabajando en doc 5791617\n",
      "Trabajando en doc 2364405\n",
      "Trabajando en doc 1745512\n",
      "Trabajando en doc 1346364\n",
      "Trabajando en doc 1003133\n",
      "Trabajando en doc 828293\n",
      "Trabajando en doc 436931\n",
      "Trabajando en doc 440994\n",
      "Trabajando en doc 437899\n",
      "Trabajando en doc 440660\n"
     ]
    },
    {
     "name": "stderr",
     "output_type": "stream",
     "text": [
      " 98%|███████████████████████████████████████████████████████▋ | 43/44 [00:00<00:00, 49.84elemento/s]\n",
      " 13%|█▎        | 32/249 [01:00<08:04,  2.23s/it]"
     ]
    },
    {
     "name": "stdout",
     "output_type": "stream",
     "text": [
      "Trabajando en doc 442229\n",
      "Trabajando en doc 693519\n",
      "Trabajando en doc 693608\n",
      "Trabajando en doc 693654\n",
      "Trabajando en doc 694682\n",
      "++++++++++++++++++++++++++++++++++ END BO ++++++++++++++++++++++++++++++++++\n",
      "iniciando raspado de BR\n",
      "211\n",
      "Archivo JSON creado exitosamente.\n"
     ]
    },
    {
     "name": "stderr",
     "output_type": "stream",
     "text": []
    },
    {
     "name": "stdout",
     "output_type": "stream",
     "text": [
      "Trabajando en doc 34112830\n",
      "Trabajando en doc 34112838\n",
      "Trabajando en doc 34065141\n",
      "Trabajando en doc 33950603\n",
      "Trabajando en doc 33923401\n",
      "Trabajando en doc 33878389\n",
      "Trabajando en doc 33790060\n",
      "Trabajando en doc 32475917\n",
      "Trabajando en doc 32386047\n",
      "Trabajando en doc 31856426\n",
      "Trabajando en doc 32961656\n",
      "Trabajando en doc 31933468\n"
     ]
    },
    {
     "name": "stderr",
     "output_type": "stream",
     "text": [
      "\n"
     ]
    },
    {
     "name": "stdout",
     "output_type": "stream",
     "text": [
      "Trabajando en doc 31894698\n",
      "Trabajando en doc 31277688\n",
      "Trabajando en doc 31248384\n",
      "Trabajando en doc 30824837\n",
      "Trabajando en doc 30660469\n",
      "Trabajando en doc 29993036\n",
      "Trabajando en doc 29162097\n",
      "Trabajando en doc 28878327\n",
      "Trabajando en doc 28651249\n",
      "Trabajando en doc 29249316\n",
      "Trabajando en doc 28029616\n",
      "Trabajando en doc 27678143\n",
      "Trabajando en doc 27361038\n",
      "Trabajando en doc 26548293\n"
     ]
    },
    {
     "name": "stderr",
     "output_type": "stream",
     "text": [
      " 12%|██████▊                                                 | 26/212 [00:00<00:02, 62.45elemento/s]\u001b[A"
     ]
    },
    {
     "name": "stdout",
     "output_type": "stream",
     "text": [
      "Trabajando en doc 26053983\n",
      "Trabajando en doc 26081843\n",
      "Trabajando en doc 25772889\n",
      "Trabajando en doc 25518331\n",
      "Trabajando en doc 24746252\n",
      "Trabajando en doc 25468671\n",
      "Trabajando en doc 23989461\n",
      "Trabajando en doc 25058326\n",
      "Trabajando en doc 20187227\n",
      "Trabajando en doc 19653899\n",
      "Trabajando en doc 19755462\n",
      "Trabajando en doc 19236423\n",
      "Trabajando en doc 19447413\n",
      "Trabajando en doc 18858589\n",
      "Trabajando en doc 19210044\n",
      "Trabajando en doc 18477180\n"
     ]
    },
    {
     "name": "stderr",
     "output_type": "stream",
     "text": []
    },
    {
     "name": "stdout",
     "output_type": "stream",
     "text": [
      "Trabajando en doc 17812310\n",
      "Trabajando en doc 18800861\n",
      "Trabajando en doc 17769516\n",
      "Trabajando en doc 18155644\n",
      "Trabajando en doc 17765715\n",
      "Trabajando en doc 18821604\n",
      "Trabajando en doc 16847556\n",
      "Trabajando en doc 17012993\n",
      "Trabajando en doc 16481014\n",
      "Trabajando en doc 17201091\n",
      "Trabajando en doc 16261229\n",
      "Trabajando en doc 16928540\n",
      "Trabajando en doc 16274033\n",
      "Trabajando en doc 16750880\n",
      "Trabajando en doc 16546323\n",
      "Trabajando en doc 15949018\n"
     ]
    },
    {
     "name": "stderr",
     "output_type": "stream",
     "text": []
    },
    {
     "name": "stdout",
     "output_type": "stream",
     "text": [
      "Trabajando en doc 17207149\n",
      "Trabajando en doc 15949044\n",
      "Trabajando en doc 15804364\n",
      "Trabajando en doc 16282046\n",
      "Trabajando en doc 15783559\n",
      "Trabajando en doc 16711429\n",
      "Trabajando en doc 15615042\n",
      "Trabajando en doc 17410602\n",
      "Trabajando en doc 15515796\n",
      "Trabajando en doc 16446400\n"
     ]
    },
    {
     "name": "stderr",
     "output_type": "stream",
     "text": []
    },
    {
     "name": "stdout",
     "output_type": "stream",
     "text": [
      "Trabajando en doc 14439896\n",
      "Trabajando en doc 16706678\n",
      "Trabajando en doc 13909173\n",
      "Trabajando en doc 13837106\n",
      "Trabajando en doc 14317486\n",
      "Trabajando en doc 13050871\n",
      "Trabajando en doc 12867582\n",
      "Trabajando en doc 13056666\n",
      "Trabajando en doc 13816926\n",
      "Trabajando en doc 13816928\n",
      "Trabajando en doc 12731768\n"
     ]
    },
    {
     "name": "stderr",
     "output_type": "stream",
     "text": []
    },
    {
     "name": "stdout",
     "output_type": "stream",
     "text": [
      "Trabajando en doc 13062866\n",
      "Trabajando en doc 12645996\n",
      "Trabajando en doc 14480945\n",
      "Trabajando en doc 12618041\n",
      "Trabajando en doc 13806829\n",
      "Trabajando en doc 12203612\n",
      "Trabajando en doc 12271704\n",
      "Trabajando en doc 12171548\n",
      "Trabajando en doc 12105560\n",
      "Trabajando en doc 12159940\n",
      "Trabajando en doc 12105339\n",
      "Trabajando en doc 12105345\n",
      "Trabajando en doc 12058823\n",
      "Trabajando en doc 11899836\n"
     ]
    },
    {
     "name": "stderr",
     "output_type": "stream",
     "text": []
    },
    {
     "name": "stdout",
     "output_type": "stream",
     "text": [
      "Trabajando en doc 11510210\n",
      "Trabajando en doc 11560327\n",
      "Trabajando en doc 11479057\n",
      "Trabajando en doc 11349213\n",
      "Trabajando en doc 10966884\n",
      "Trabajando en doc 11064806\n",
      "Trabajando en doc 10715183\n",
      "Trabajando en doc 10721929\n",
      "Trabajando en doc 10727565\n",
      "Trabajando en doc 10714964\n",
      "Trabajando en doc 10388063\n"
     ]
    },
    {
     "name": "stderr",
     "output_type": "stream",
     "text": []
    },
    {
     "name": "stdout",
     "output_type": "stream",
     "text": [
      "Trabajando en doc 10378486\n",
      "Trabajando en doc 10231087\n",
      "Trabajando en doc 10152116\n",
      "Trabajando en doc 10098329\n",
      "Trabajando en doc 10066575\n",
      "Trabajando en doc 10163576\n",
      "Trabajando en doc 10148653\n",
      "Trabajando en doc 11735668\n",
      "Trabajando en doc 9858057\n",
      "Trabajando en doc 9827772\n",
      "Trabajando en doc 9664862\n",
      "Trabajando en doc 9648862\n",
      "Trabajando en doc 9354110\n",
      "Trabajando en doc 9356725\n",
      "Trabajando en doc 9353583\n",
      "Trabajando en doc 9081555\n",
      "Trabajando en doc 8999163\n"
     ]
    },
    {
     "name": "stderr",
     "output_type": "stream",
     "text": []
    },
    {
     "name": "stdout",
     "output_type": "stream",
     "text": [
      "Trabajando en doc 8965295\n",
      "Trabajando en doc 8906180\n",
      "Trabajando en doc 8846399\n",
      "Trabajando en doc 9394128\n",
      "Trabajando en doc 8200874\n",
      "Trabajando en doc 7716200\n"
     ]
    },
    {
     "name": "stderr",
     "output_type": "stream",
     "text": []
    },
    {
     "name": "stdout",
     "output_type": "stream",
     "text": [
      "Trabajando en doc 7425464\n",
      "Trabajando en doc 7345030\n",
      "Trabajando en doc 7218927\n",
      "Trabajando en doc 7157386\n",
      "Trabajando en doc 6821201\n",
      "Trabajando en doc 6792510\n",
      "Trabajando en doc 6414415\n",
      "Trabajando en doc 6364042\n",
      "Trabajando en doc 6619244\n",
      "Trabajando en doc 6236396\n",
      "Trabajando en doc 6215869\n",
      "Trabajando en doc 6254965\n",
      "Trabajando en doc 6205991\n"
     ]
    },
    {
     "name": "stderr",
     "output_type": "stream",
     "text": []
    },
    {
     "name": "stdout",
     "output_type": "stream",
     "text": [
      "Trabajando en doc 6057513\n",
      "Trabajando en doc 6105712\n",
      "Trabajando en doc 6022370\n",
      "Trabajando en doc 5841524\n",
      "Trabajando en doc 5798986\n",
      "Trabajando en doc 6639050\n",
      "Trabajando en doc 9419679\n",
      "Trabajando en doc 5348898\n",
      "Trabajando en doc 5145601\n",
      "Trabajando en doc 4123829\n",
      "Trabajando en doc 4269687\n",
      "Trabajando en doc 4357386\n"
     ]
    },
    {
     "name": "stderr",
     "output_type": "stream",
     "text": []
    },
    {
     "name": "stdout",
     "output_type": "stream",
     "text": [
      "Trabajando en doc 4972777\n",
      "Trabajando en doc 3292595\n",
      "Trabajando en doc 3344054\n",
      "Trabajando en doc 2698850\n",
      "Trabajando en doc 2384508\n",
      "Trabajando en doc 2374654\n",
      "Trabajando en doc 2369316\n",
      "Trabajando en doc 2356637\n",
      "Trabajando en doc 2199496\n",
      "Trabajando en doc 8574739\n",
      "Trabajando en doc 1964254\n",
      "Trabajando en doc 1942058\n",
      "Trabajando en doc 1803804\n",
      "Trabajando en doc 1796867\n"
     ]
    },
    {
     "name": "stderr",
     "output_type": "stream",
     "text": []
    },
    {
     "name": "stdout",
     "output_type": "stream",
     "text": [
      "Trabajando en doc 1774379\n",
      "Trabajando en doc 1752396\n",
      "Trabajando en doc 1711089\n",
      "Trabajando en doc 1663418\n",
      "Trabajando en doc 1647736\n",
      "Trabajando en doc 1953744\n",
      "Trabajando en doc 1561356\n",
      "Trabajando en doc 1552075\n",
      "Trabajando en doc 1552029\n",
      "Trabajando en doc 1346281\n",
      "Trabajando en doc 1346280\n",
      "Trabajando en doc 1346283\n",
      "Trabajando en doc 1346282\n",
      "Trabajando en doc 1096681\n",
      "Trabajando en doc 8555923\n",
      "Trabajando en doc 729336\n",
      "Trabajando en doc 729334\n"
     ]
    },
    {
     "name": "stderr",
     "output_type": "stream",
     "text": []
    },
    {
     "name": "stdout",
     "output_type": "stream",
     "text": [
      "Trabajando en doc 717516\n",
      "Trabajando en doc 437646\n",
      "Trabajando en doc 438378\n",
      "Trabajando en doc 439249\n",
      "Trabajando en doc 439614\n",
      "Trabajando en doc 439250\n",
      "Trabajando en doc 440250\n",
      "Trabajando en doc 441017\n",
      "Trabajando en doc 8568985\n",
      "Trabajando en doc 440630\n",
      "Trabajando en doc 441016\n",
      "Trabajando en doc 440785\n",
      "Trabajando en doc 442192\n",
      "Trabajando en doc 441093\n",
      "Trabajando en doc 442117\n",
      "Trabajando en doc 8574656\n"
     ]
    },
    {
     "name": "stderr",
     "output_type": "stream",
     "text": [
      "100%|██████████████████████████████████████████████████████▋| 211/212 [00:03<00:00, 63.75elemento/s]\n",
      " 13%|█▎        | 33/249 [01:07<13:18,  3.70s/it]"
     ]
    },
    {
     "name": "stdout",
     "output_type": "stream",
     "text": [
      "Trabajando en doc 693661\n",
      "Trabajando en doc 693662\n",
      "Trabajando en doc 693676\n",
      "Trabajando en doc 693744\n",
      "Trabajando en doc 693884\n",
      "Trabajando en doc 693882\n",
      "Trabajando en doc 693972\n",
      "Trabajando en doc 440769\n",
      "Trabajando en doc 694782\n",
      "Trabajando en doc 694816\n",
      "Trabajando en doc 694870\n",
      "Trabajando en doc 694893\n",
      "++++++++++++++++++++++++++++++++++ END BR ++++++++++++++++++++++++++++++++++\n",
      "iniciando raspado de BB\n",
      "2\n",
      "Archivo JSON creado exitosamente.\n"
     ]
    },
    {
     "name": "stderr",
     "output_type": "stream",
     "text": [
      " 67%|███████████████████████████████████████▎                   | 2/3 [00:00<00:00, 14.72elemento/s]\n",
      " 14%|█▎        | 34/249 [01:09<11:17,  3.15s/it]"
     ]
    },
    {
     "name": "stdout",
     "output_type": "stream",
     "text": [
      "Trabajando en doc 9693488\n",
      "Trabajando en doc 1346302\n",
      "++++++++++++++++++++++++++++++++++ END BB ++++++++++++++++++++++++++++++++++\n",
      "iniciando raspado de BN\n"
     ]
    },
    {
     "name": "stderr",
     "output_type": "stream",
     "text": [
      " 14%|█▍        | 35/249 [01:10<08:35,  2.41s/it]"
     ]
    },
    {
     "name": "stdout",
     "output_type": "stream",
     "text": [
      "0\n",
      "0 no contiene documentos\n",
      "iniciando raspado de BT\n",
      "16\n",
      "Archivo JSON creado exitosamente.\n"
     ]
    },
    {
     "name": "stderr",
     "output_type": "stream",
     "text": []
    },
    {
     "name": "stdout",
     "output_type": "stream",
     "text": [
      "Trabajando en doc 33706811\n",
      "Trabajando en doc 31981375\n",
      "Trabajando en doc 33280390\n",
      "Trabajando en doc 17642003\n",
      "Trabajando en doc 16732268\n",
      "Trabajando en doc 12075917\n",
      "Trabajando en doc 9466994\n",
      "Trabajando en doc 7679773\n",
      "Trabajando en doc 7478368\n",
      "Trabajando en doc 6500835\n",
      "Trabajando en doc 5594868\n"
     ]
    },
    {
     "name": "stderr",
     "output_type": "stream",
     "text": [
      " 94%|█████████████████████████████████████████████████████▋   | 16/17 [00:00<00:00, 62.13elemento/s]\n",
      " 14%|█▍        | 36/249 [01:12<08:04,  2.27s/it]"
     ]
    },
    {
     "name": "stdout",
     "output_type": "stream",
     "text": [
      "Trabajando en doc 3747551\n",
      "Trabajando en doc 2458384\n",
      "Trabajando en doc 439278\n",
      "Trabajando en doc 439276\n",
      "Trabajando en doc 693747\n",
      "++++++++++++++++++++++++++++++++++ END BT ++++++++++++++++++++++++++++++++++\n",
      "iniciando raspado de BV\n"
     ]
    },
    {
     "name": "stderr",
     "output_type": "stream",
     "text": [
      " 15%|█▍        | 37/249 [01:13<06:15,  1.77s/it]"
     ]
    },
    {
     "name": "stdout",
     "output_type": "stream",
     "text": [
      "0\n",
      "0 no contiene documentos\n",
      "iniciando raspado de BW\n",
      "5\n",
      "Archivo JSON creado exitosamente.\n"
     ]
    },
    {
     "name": "stderr",
     "output_type": "stream",
     "text": [
      " 83%|█████████████████████████████████████████████████▏         | 5/6 [00:00<00:00, 52.66elemento/s]\n",
      " 15%|█▌        | 38/249 [01:14<06:19,  1.80s/it]"
     ]
    },
    {
     "name": "stdout",
     "output_type": "stream",
     "text": [
      "Trabajando en doc 27211477\n",
      "Trabajando en doc 11315506\n",
      "Trabajando en doc 11193924\n",
      "Trabajando en doc 10542728\n",
      "Trabajando en doc 9588485\n",
      "++++++++++++++++++++++++++++++++++ END BW ++++++++++++++++++++++++++++++++++\n",
      "iniciando raspado de CF\n",
      "27\n",
      "Archivo JSON creado exitosamente.\n"
     ]
    },
    {
     "name": "stderr",
     "output_type": "stream",
     "text": []
    },
    {
     "name": "stdout",
     "output_type": "stream",
     "text": [
      "Trabajando en doc 33813030\n",
      "Trabajando en doc 33813032\n",
      "Trabajando en doc 33753850\n",
      "Trabajando en doc 33753836\n",
      "Trabajando en doc 33195591\n",
      "Trabajando en doc 33186335\n",
      "Trabajando en doc 33178486\n",
      "Trabajando en doc 33031677\n",
      "Trabajando en doc 32002937\n"
     ]
    },
    {
     "name": "stderr",
     "output_type": "stream",
     "text": []
    },
    {
     "name": "stdout",
     "output_type": "stream",
     "text": [
      "Trabajando en doc 31031078\n",
      "Trabajando en doc 30861827\n",
      "Trabajando en doc 30423385\n",
      "Trabajando en doc 29935009\n",
      "Trabajando en doc 29669987\n",
      "Trabajando en doc 29326521\n",
      "Trabajando en doc 27677156\n",
      "Trabajando en doc 27677097\n",
      "Trabajando en doc 27459615\n",
      "Trabajando en doc 27287412\n",
      "Trabajando en doc 24811677\n",
      "Trabajando en doc 19393624\n",
      "Trabajando en doc 19157027\n"
     ]
    },
    {
     "name": "stderr",
     "output_type": "stream",
     "text": [
      " 96%|██████████████████████████████████████████████████████▉  | 27/28 [00:00<00:00, 47.25elemento/s]\n",
      " 16%|█▌        | 39/249 [01:17<07:06,  2.03s/it]"
     ]
    },
    {
     "name": "stdout",
     "output_type": "stream",
     "text": [
      "Trabajando en doc 16248487\n",
      "Trabajando en doc 11077291\n",
      "Trabajando en doc 11077285\n",
      "Trabajando en doc 1637770\n",
      "Trabajando en doc 437353\n",
      "++++++++++++++++++++++++++++++++++ END CF ++++++++++++++++++++++++++++++++++\n",
      "iniciando raspado de CA\n"
     ]
    },
    {
     "name": "stderr",
     "output_type": "stream",
     "text": [
      " 16%|█▌        | 40/249 [01:18<05:34,  1.60s/it]"
     ]
    },
    {
     "name": "stdout",
     "output_type": "stream",
     "text": [
      "0\n",
      "0 no contiene documentos\n",
      "iniciando raspado de CC\n"
     ]
    },
    {
     "name": "stderr",
     "output_type": "stream",
     "text": [
      " 16%|█▋        | 41/249 [01:18<04:31,  1.31s/it]"
     ]
    },
    {
     "name": "stdout",
     "output_type": "stream",
     "text": [
      "0\n",
      "0 no contiene documentos\n",
      "iniciando raspado de CH\n"
     ]
    },
    {
     "name": "stderr",
     "output_type": "stream",
     "text": [
      " 17%|█▋        | 42/249 [01:19<03:44,  1.08s/it]"
     ]
    },
    {
     "name": "stdout",
     "output_type": "stream",
     "text": [
      "0\n",
      "0 no contiene documentos\n",
      "iniciando raspado de CL\n",
      "28\n",
      "Archivo JSON creado exitosamente.\n"
     ]
    },
    {
     "name": "stderr",
     "output_type": "stream",
     "text": []
    },
    {
     "name": "stdout",
     "output_type": "stream",
     "text": [
      "Trabajando en doc 34075399\n",
      "Trabajando en doc 31765440\n",
      "Trabajando en doc 29541979\n",
      "Trabajando en doc 28029876\n",
      "Trabajando en doc 25170122\n",
      "Trabajando en doc 18473854\n",
      "Trabajando en doc 17750414\n",
      "Trabajando en doc 16355291\n",
      "Trabajando en doc 15829817\n",
      "Trabajando en doc 9618182\n",
      "Trabajando en doc 8064546\n"
     ]
    },
    {
     "name": "stderr",
     "output_type": "stream",
     "text": []
    },
    {
     "name": "stdout",
     "output_type": "stream",
     "text": [
      "Trabajando en doc 8561930\n",
      "Trabajando en doc 7637837\n",
      "Trabajando en doc 6856190\n",
      "Trabajando en doc 5866153\n",
      "Trabajando en doc 5859911\n",
      "Trabajando en doc 5546923\n",
      "Trabajando en doc 5449347\n",
      "Trabajando en doc 3409202\n",
      "Trabajando en doc 2807691\n",
      "Trabajando en doc 2684249\n",
      "Trabajando en doc 2294292\n",
      "Trabajando en doc 1718700\n",
      "Trabajando en doc 1681430\n",
      "Trabajando en doc 12203789\n"
     ]
    },
    {
     "name": "stderr",
     "output_type": "stream",
     "text": [
      " 97%|███████████████████████████████████████████████████████  | 28/29 [00:00<00:00, 62.59elemento/s]\n",
      " 17%|█▋        | 43/249 [01:22<05:27,  1.59s/it]"
     ]
    },
    {
     "name": "stdout",
     "output_type": "stream",
     "text": [
      "Trabajando en doc 440897\n",
      "Trabajando en doc 441973\n",
      "Trabajando en doc 440551\n",
      "++++++++++++++++++++++++++++++++++ END CL ++++++++++++++++++++++++++++++++++\n",
      "iniciando raspado de CN\n",
      "288\n",
      "Archivo JSON creado exitosamente.\n"
     ]
    },
    {
     "name": "stderr",
     "output_type": "stream",
     "text": []
    },
    {
     "name": "stdout",
     "output_type": "stream",
     "text": [
      "Trabajando en doc 34061379\n",
      "Trabajando en doc 34039751\n",
      "Trabajando en doc 34021184\n",
      "Trabajando en doc 34017517\n",
      "Trabajando en doc 33809025\n",
      "Trabajando en doc 33758894\n",
      "Trabajando en doc 33758893\n",
      "Trabajando en doc 33653173\n",
      "Trabajando en doc 33151965\n",
      "Trabajando en doc 33151953\n",
      "Trabajando en doc 32899304\n"
     ]
    },
    {
     "name": "stderr",
     "output_type": "stream",
     "text": []
    },
    {
     "name": "stdout",
     "output_type": "stream",
     "text": [
      "Trabajando en doc 32815012\n",
      "Trabajando en doc 32011966\n",
      "Trabajando en doc 31856605\n",
      "Trabajando en doc 31785830\n",
      "Trabajando en doc 31605901\n",
      "Trabajando en doc 31778221\n",
      "Trabajando en doc 31103135\n",
      "Trabajando en doc 31089734\n",
      "Trabajando en doc 31072333\n",
      "Trabajando en doc 31045890\n",
      "Trabajando en doc 30907072\n",
      "Trabajando en doc 31462704\n",
      "Trabajando en doc 30686332\n",
      "Trabajando en doc 30423400\n",
      "Trabajando en doc 29971215\n",
      "Trabajando en doc 29955786\n",
      "Trabajando en doc 29935175\n"
     ]
    },
    {
     "name": "stderr",
     "output_type": "stream",
     "text": []
    },
    {
     "name": "stdout",
     "output_type": "stream",
     "text": [
      "Trabajando en doc 29915865\n",
      "Trabajando en doc 29915733\n",
      "Trabajando en doc 29915737\n",
      "Trabajando en doc 28940853\n",
      "Trabajando en doc 28081153\n",
      "Trabajando en doc 27883199\n",
      "Trabajando en doc 27749544\n",
      "Trabajando en doc 27618609\n",
      "Trabajando en doc 27380863\n"
     ]
    },
    {
     "name": "stderr",
     "output_type": "stream",
     "text": []
    },
    {
     "name": "stdout",
     "output_type": "stream",
     "text": [
      "Trabajando en doc 27329898\n",
      "Trabajando en doc 27278411\n",
      "Trabajando en doc 27237686\n",
      "Trabajando en doc 27250815\n",
      "Trabajando en doc 27180235\n",
      "Trabajando en doc 27164976\n",
      "Trabajando en doc 27136638\n",
      "Trabajando en doc 27000730\n"
     ]
    },
    {
     "name": "stderr",
     "output_type": "stream",
     "text": []
    },
    {
     "name": "stdout",
     "output_type": "stream",
     "text": [
      "Trabajando en doc 26957693\n",
      "Trabajando en doc 26809748\n",
      "Trabajando en doc 26739582\n",
      "Trabajando en doc 26536085\n",
      "Trabajando en doc 26380140\n",
      "Trabajando en doc 26283617\n",
      "Trabajando en doc 26221899\n"
     ]
    },
    {
     "name": "stderr",
     "output_type": "stream",
     "text": []
    },
    {
     "name": "stdout",
     "output_type": "stream",
     "text": [
      "Trabajando en doc 26075448\n",
      "Trabajando en doc 26006020\n",
      "Trabajando en doc 25889899\n",
      "Trabajando en doc 25725395\n",
      "Trabajando en doc 25725383\n"
     ]
    },
    {
     "name": "stderr",
     "output_type": "stream",
     "text": []
    },
    {
     "name": "stdout",
     "output_type": "stream",
     "text": [
      "Trabajando en doc 25522342\n",
      "Trabajando en doc 25518334\n",
      "Trabajando en doc 25016787\n",
      "Trabajando en doc 24594208\n",
      "Trabajando en doc 24476761\n",
      "Trabajando en doc 24416815\n",
      "Trabajando en doc 24487541\n",
      "Trabajando en doc 24146644\n",
      "Trabajando en doc 24157494\n",
      "Trabajando en doc 24063532\n",
      "Trabajando en doc 24039636\n"
     ]
    },
    {
     "name": "stderr",
     "output_type": "stream",
     "text": []
    },
    {
     "name": "stdout",
     "output_type": "stream",
     "text": [
      "Trabajando en doc 23793325\n",
      "Trabajando en doc 20475491\n",
      "Trabajando en doc 20472007\n",
      "Trabajando en doc 20346294\n",
      "Trabajando en doc 20207840\n"
     ]
    },
    {
     "name": "stderr",
     "output_type": "stream",
     "text": []
    },
    {
     "name": "stdout",
     "output_type": "stream",
     "text": [
      "Trabajando en doc 20187858\n",
      "Trabajando en doc 20188036\n",
      "Trabajando en doc 20188443\n",
      "Trabajando en doc 20123634\n",
      "Trabajando en doc 20336683\n",
      "Trabajando en doc 19523579\n",
      "Trabajando en doc 19457995\n",
      "Trabajando en doc 19454163\n",
      "Trabajando en doc 19454039\n",
      "Trabajando en doc 19237616\n"
     ]
    },
    {
     "name": "stderr",
     "output_type": "stream",
     "text": []
    },
    {
     "name": "stdout",
     "output_type": "stream",
     "text": [
      "Trabajando en doc 19236431\n",
      "Trabajando en doc 19237840\n",
      "Trabajando en doc 19009383\n",
      "Trabajando en doc 18622695\n",
      "Trabajando en doc 18625428\n",
      "Trabajando en doc 18625436\n"
     ]
    },
    {
     "name": "stderr",
     "output_type": "stream",
     "text": []
    },
    {
     "name": "stdout",
     "output_type": "stream",
     "text": [
      "Trabajando en doc 18625421\n",
      "Trabajando en doc 18407752\n",
      "Trabajando en doc 17792918\n",
      "Trabajando en doc 17795671\n"
     ]
    },
    {
     "name": "stderr",
     "output_type": "stream",
     "text": []
    },
    {
     "name": "stdout",
     "output_type": "stream",
     "text": [
      "Trabajando en doc 17795601\n",
      "Trabajando en doc 17716145\n",
      "Trabajando en doc 17712944\n",
      "Trabajando en doc 17707963\n",
      "Trabajando en doc 17641992\n"
     ]
    },
    {
     "name": "stderr",
     "output_type": "stream",
     "text": []
    },
    {
     "name": "stdout",
     "output_type": "stream",
     "text": [
      "Trabajando en doc 17579131\n",
      "Trabajando en doc 17457913\n",
      "Trabajando en doc 17400668\n",
      "Trabajando en doc 17406297\n",
      "Trabajando en doc 17400672\n",
      "Trabajando en doc 17406020\n",
      "Trabajando en doc 17406295\n"
     ]
    },
    {
     "name": "stderr",
     "output_type": "stream",
     "text": []
    },
    {
     "name": "stdout",
     "output_type": "stream",
     "text": [
      "Trabajando en doc 17277879\n",
      "Trabajando en doc 17124484\n",
      "Trabajando en doc 17036781\n",
      "Trabajando en doc 16283803\n",
      "Trabajando en doc 16269072\n",
      "Trabajando en doc 16267428\n",
      "Trabajando en doc 16261233\n"
     ]
    },
    {
     "name": "stderr",
     "output_type": "stream",
     "text": []
    },
    {
     "name": "stdout",
     "output_type": "stream",
     "text": [
      "Trabajando en doc 16259403\n",
      "Trabajando en doc 16244819\n",
      "Trabajando en doc 16248511\n",
      "Trabajando en doc 16215698\n",
      "Trabajando en doc 16238761\n",
      "Trabajando en doc 15940560\n"
     ]
    },
    {
     "name": "stderr",
     "output_type": "stream",
     "text": []
    },
    {
     "name": "stdout",
     "output_type": "stream",
     "text": [
      "Trabajando en doc 15940666\n",
      "Trabajando en doc 15928629\n",
      "Trabajando en doc 15873170\n",
      "Trabajando en doc 15783679\n",
      "Trabajando en doc 15785548\n",
      "Trabajando en doc 14222250\n",
      "Trabajando en doc 14196183\n"
     ]
    },
    {
     "name": "stderr",
     "output_type": "stream",
     "text": []
    },
    {
     "name": "stdout",
     "output_type": "stream",
     "text": [
      "Trabajando en doc 14196172\n",
      "Trabajando en doc 14156372\n",
      "Trabajando en doc 14150378\n",
      "Trabajando en doc 14150881\n",
      "Trabajando en doc 14118011\n",
      "Trabajando en doc 14101785\n"
     ]
    },
    {
     "name": "stderr",
     "output_type": "stream",
     "text": []
    },
    {
     "name": "stdout",
     "output_type": "stream",
     "text": [
      "Trabajando en doc 14089617\n",
      "Trabajando en doc 13978677\n",
      "Trabajando en doc 13962230\n",
      "Trabajando en doc 13876644\n",
      "Trabajando en doc 13798927\n",
      "Trabajando en doc 13431487\n",
      "Trabajando en doc 12525140\n",
      "Trabajando en doc 12436583\n",
      "Trabajando en doc 12374261\n",
      "Trabajando en doc 12396755\n",
      "Trabajando en doc 12342782\n"
     ]
    },
    {
     "name": "stderr",
     "output_type": "stream",
     "text": []
    },
    {
     "name": "stdout",
     "output_type": "stream",
     "text": [
      "Trabajando en doc 12329658\n",
      "Trabajando en doc 12322486\n",
      "Trabajando en doc 12322878\n",
      "Trabajando en doc 12259595\n",
      "Trabajando en doc 12249830\n"
     ]
    },
    {
     "name": "stderr",
     "output_type": "stream",
     "text": []
    },
    {
     "name": "stdout",
     "output_type": "stream",
     "text": [
      "Trabajando en doc 12219210\n",
      "Trabajando en doc 12249410\n",
      "Trabajando en doc 12153529\n",
      "Trabajando en doc 12187869\n",
      "Trabajando en doc 12153524\n",
      "Trabajando en doc 12132431\n",
      "Trabajando en doc 12026293\n"
     ]
    },
    {
     "name": "stderr",
     "output_type": "stream",
     "text": []
    },
    {
     "name": "stdout",
     "output_type": "stream",
     "text": [
      "Trabajando en doc 11768237\n",
      "Trabajando en doc 10675199\n",
      "Trabajando en doc 10647029\n",
      "Trabajando en doc 10557541\n",
      "Trabajando en doc 10557536\n"
     ]
    },
    {
     "name": "stderr",
     "output_type": "stream",
     "text": []
    },
    {
     "name": "stdout",
     "output_type": "stream",
     "text": [
      "Trabajando en doc 10508315\n",
      "Trabajando en doc 10557398\n",
      "Trabajando en doc 10465230\n",
      "Trabajando en doc 10464881\n",
      "Trabajando en doc 10478744\n",
      "Trabajando en doc 10350245\n",
      "Trabajando en doc 10350024\n",
      "Trabajando en doc 10018752\n",
      "Trabajando en doc 9831575\n",
      "Trabajando en doc 9629161\n",
      "Trabajando en doc 10480955\n"
     ]
    },
    {
     "name": "stderr",
     "output_type": "stream",
     "text": []
    },
    {
     "name": "stdout",
     "output_type": "stream",
     "text": [
      "Trabajando en doc 9537861\n",
      "Trabajando en doc 9526626\n",
      "Trabajando en doc 9526439\n",
      "Trabajando en doc 9519791\n",
      "Trabajando en doc 9423380\n",
      "Trabajando en doc 9423621\n",
      "Trabajando en doc 9423415\n",
      "Trabajando en doc 9349742\n",
      "Trabajando en doc 9333929\n",
      "Trabajando en doc 9334120\n"
     ]
    },
    {
     "name": "stderr",
     "output_type": "stream",
     "text": []
    },
    {
     "name": "stdout",
     "output_type": "stream",
     "text": [
      "Trabajando en doc 9710443\n",
      "Trabajando en doc 9057748\n",
      "Trabajando en doc 9038987\n",
      "Trabajando en doc 9443824\n",
      "Trabajando en doc 8978051\n",
      "Trabajando en doc 8899987\n"
     ]
    },
    {
     "name": "stderr",
     "output_type": "stream",
     "text": []
    },
    {
     "name": "stdout",
     "output_type": "stream",
     "text": [
      "Trabajando en doc 9697463\n",
      "Trabajando en doc 7698440\n",
      "Trabajando en doc 7666572\n",
      "Trabajando en doc 7698545\n",
      "Trabajando en doc 7408678\n"
     ]
    },
    {
     "name": "stderr",
     "output_type": "stream",
     "text": []
    },
    {
     "name": "stdout",
     "output_type": "stream",
     "text": [
      "Trabajando en doc 7379385\n",
      "Trabajando en doc 7450746\n",
      "Trabajando en doc 7301403\n",
      "Trabajando en doc 7228337\n",
      "Trabajando en doc 7073557\n"
     ]
    },
    {
     "name": "stderr",
     "output_type": "stream",
     "text": []
    },
    {
     "name": "stdout",
     "output_type": "stream",
     "text": [
      "Trabajando en doc 7000749\n",
      "Trabajando en doc 6861859\n",
      "Trabajando en doc 6861452\n",
      "Trabajando en doc 6842978\n"
     ]
    },
    {
     "name": "stderr",
     "output_type": "stream",
     "text": []
    },
    {
     "name": "stdout",
     "output_type": "stream",
     "text": [
      "Trabajando en doc 6843080\n",
      "Trabajando en doc 6844441\n",
      "Trabajando en doc 6846311\n",
      "Trabajando en doc 6679631\n",
      "Trabajando en doc 6912068\n",
      "Trabajando en doc 6517289\n"
     ]
    },
    {
     "name": "stderr",
     "output_type": "stream",
     "text": []
    },
    {
     "name": "stdout",
     "output_type": "stream",
     "text": [
      "Trabajando en doc 6442547\n",
      "Trabajando en doc 6447696\n",
      "Trabajando en doc 6299784\n"
     ]
    },
    {
     "name": "stderr",
     "output_type": "stream",
     "text": []
    },
    {
     "name": "stdout",
     "output_type": "stream",
     "text": [
      "Trabajando en doc 6299785\n",
      "Trabajando en doc 5872780\n",
      "Trabajando en doc 5841466\n",
      "Trabajando en doc 5841447\n",
      "Trabajando en doc 5835163\n",
      "Trabajando en doc 5781933\n",
      "Trabajando en doc 5726925\n"
     ]
    },
    {
     "name": "stderr",
     "output_type": "stream",
     "text": []
    },
    {
     "name": "stdout",
     "output_type": "stream",
     "text": [
      "Trabajando en doc 5631699\n"
     ]
    },
    {
     "name": "stderr",
     "output_type": "stream",
     "text": []
    },
    {
     "name": "stdout",
     "output_type": "stream",
     "text": [
      "Trabajando en doc 5630642\n",
      "Trabajando en doc 5070871\n",
      "Trabajando en doc 4949755\n",
      "Trabajando en doc 4096709\n",
      "Trabajando en doc 4094761\n",
      "Trabajando en doc 4806121\n",
      "Trabajando en doc 3062535\n",
      "Trabajando en doc 3027997\n",
      "Trabajando en doc 2957944\n",
      "Trabajando en doc 5566671\n"
     ]
    },
    {
     "name": "stderr",
     "output_type": "stream",
     "text": []
    },
    {
     "name": "stdout",
     "output_type": "stream",
     "text": [
      "Trabajando en doc 2852987\n",
      "Trabajando en doc 2672629\n",
      "Trabajando en doc 2488095\n",
      "Trabajando en doc 2369254\n",
      "Trabajando en doc 2364152\n",
      "Trabajando en doc 2289303\n",
      "Trabajando en doc 2156906\n",
      "Trabajando en doc 2020249\n",
      "Trabajando en doc 1989000\n",
      "Trabajando en doc 2488134\n",
      "Trabajando en doc 1979362\n"
     ]
    },
    {
     "name": "stderr",
     "output_type": "stream",
     "text": [
      "\n"
     ]
    },
    {
     "name": "stdout",
     "output_type": "stream",
     "text": [
      "Trabajando en doc 1798548\n",
      "Trabajando en doc 1787040\n"
     ]
    },
    {
     "name": "stderr",
     "output_type": "stream",
     "text": [
      " 83%|█████████████████████████████████████████████▋         | 240/289 [00:05<00:00, 50.06elemento/s]\u001b[A"
     ]
    },
    {
     "name": "stdout",
     "output_type": "stream",
     "text": [
      "Trabajando en doc 1743966\n",
      "Trabajando en doc 1715980\n",
      "Trabajando en doc 1663420\n",
      "Trabajando en doc 1346266\n",
      "Trabajando en doc 1121281\n",
      "Trabajando en doc 1121192\n",
      "Trabajando en doc 1003143\n",
      "Trabajando en doc 1003146\n",
      "Trabajando en doc 729308\n",
      "Trabajando en doc 729307\n",
      "Trabajando en doc 437449\n",
      "Trabajando en doc 437345\n",
      "Trabajando en doc 437346\n",
      "Trabajando en doc 437450\n"
     ]
    },
    {
     "name": "stderr",
     "output_type": "stream",
     "text": []
    },
    {
     "name": "stdout",
     "output_type": "stream",
     "text": [
      "Trabajando en doc 437713\n",
      "Trabajando en doc 438151\n",
      "Trabajando en doc 439471\n",
      "Trabajando en doc 439451\n",
      "Trabajando en doc 439557\n",
      "Trabajando en doc 440976\n"
     ]
    },
    {
     "name": "stderr",
     "output_type": "stream",
     "text": []
    },
    {
     "name": "stdout",
     "output_type": "stream",
     "text": [
      "Trabajando en doc 440622\n",
      "Trabajando en doc 440625\n",
      "Trabajando en doc 440995\n",
      "Trabajando en doc 441014\n",
      "Trabajando en doc 440852\n",
      "Trabajando en doc 440997\n",
      "Trabajando en doc 440646\n",
      "Trabajando en doc 440651\n",
      "Trabajando en doc 440657\n",
      "Trabajando en doc 440865\n",
      "Trabajando en doc 440896\n"
     ]
    },
    {
     "name": "stderr",
     "output_type": "stream",
     "text": []
    },
    {
     "name": "stdout",
     "output_type": "stream",
     "text": [
      "Trabajando en doc 442363\n",
      "Trabajando en doc 438867\n",
      "Trabajando en doc 438877\n",
      "Trabajando en doc 441583\n",
      "Trabajando en doc 441586\n",
      "Trabajando en doc 442225\n",
      "Trabajando en doc 442060\n",
      "Trabajando en doc 693551\n",
      "Trabajando en doc 693559\n",
      "Trabajando en doc 693588\n",
      "Trabajando en doc 693592\n",
      "Trabajando en doc 693596\n",
      "Trabajando en doc 693597\n"
     ]
    },
    {
     "name": "stderr",
     "output_type": "stream",
     "text": [
      "100%|██████████████████████████████████████████████████████▊| 288/289 [00:06<00:00, 47.66elemento/s]\n",
      " 18%|█▊        | 44/249 [01:32<14:11,  4.15s/it]"
     ]
    },
    {
     "name": "stdout",
     "output_type": "stream",
     "text": [
      "Trabajando en doc 693600\n",
      "Trabajando en doc 693678\n",
      "Trabajando en doc 693721\n",
      "Trabajando en doc 694726\n",
      "++++++++++++++++++++++++++++++++++ END CN ++++++++++++++++++++++++++++++++++\n",
      "iniciando raspado de CI\n",
      "35\n",
      "Archivo JSON creado exitosamente.\n"
     ]
    },
    {
     "name": "stderr",
     "output_type": "stream",
     "text": []
    },
    {
     "name": "stdout",
     "output_type": "stream",
     "text": [
      "Trabajando en doc 34079913\n",
      "Trabajando en doc 34018958\n",
      "Trabajando en doc 33964017\n",
      "Trabajando en doc 33841539\n",
      "Trabajando en doc 33811069\n",
      "Trabajando en doc 33702307\n",
      "Trabajando en doc 32069484\n"
     ]
    },
    {
     "name": "stderr",
     "output_type": "stream",
     "text": []
    },
    {
     "name": "stdout",
     "output_type": "stream",
     "text": [
      "Trabajando en doc 32025312\n",
      "Trabajando en doc 31162312\n",
      "Trabajando en doc 30924887\n",
      "Trabajando en doc 30889358\n",
      "Trabajando en doc 30929693\n",
      "Trabajando en doc 30021355\n",
      "Trabajando en doc 30021358\n",
      "Trabajando en doc 29885966\n",
      "Trabajando en doc 29750432\n",
      "Trabajando en doc 29773520\n",
      "Trabajando en doc 29478604\n",
      "Trabajando en doc 29326522\n",
      "Trabajando en doc 27278410\n",
      "Trabajando en doc 26977324\n"
     ]
    },
    {
     "name": "stderr",
     "output_type": "stream",
     "text": []
    },
    {
     "name": "stdout",
     "output_type": "stream",
     "text": [
      "Trabajando en doc 26499642\n",
      "Trabajando en doc 24888426\n",
      "Trabajando en doc 20360047\n",
      "Trabajando en doc 18027770\n",
      "Trabajando en doc 17776074\n",
      "Trabajando en doc 11185490\n",
      "Trabajando en doc 10582148\n",
      "Trabajando en doc 10458502\n",
      "Trabajando en doc 437230\n",
      "Trabajando en doc 439552\n",
      "Trabajando en doc 441972\n",
      "Trabajando en doc 442120\n",
      "Trabajando en doc 442230\n",
      "Trabajando en doc 12329644\n"
     ]
    },
    {
     "name": "stderr",
     "output_type": "stream",
     "text": [
      " 97%|███████████████████████████████████████████████████████▍ | 35/36 [00:00<00:00, 51.96elemento/s]\n",
      " 18%|█▊        | 45/249 [01:34<12:29,  3.67s/it]"
     ]
    },
    {
     "name": "stdout",
     "output_type": "stream",
     "text": [
      "++++++++++++++++++++++++++++++++++ END CI ++++++++++++++++++++++++++++++++++\n",
      "iniciando raspado de CM\n",
      "50\n",
      "Archivo JSON creado exitosamente.\n"
     ]
    },
    {
     "name": "stderr",
     "output_type": "stream",
     "text": []
    },
    {
     "name": "stdout",
     "output_type": "stream",
     "text": [
      "Trabajando en doc 34073066\n",
      "Trabajando en doc 33895688\n",
      "Trabajando en doc 33819085\n",
      "Trabajando en doc 33815260\n",
      "Se descargoo output\\CM\\observation-33815260.pdf de ID 33815260.\n"
     ]
    },
    {
     "name": "stderr",
     "output_type": "stream",
     "text": []
    },
    {
     "name": "stdout",
     "output_type": "stream",
     "text": [
      "Se descargoo output\\CM\\observation-33815260.txt de ID 33815260.\n",
      "Trabajando en doc 33801108\n",
      "Trabajando en doc 33753852\n",
      "Trabajando en doc 33603102\n",
      "Trabajando en doc 33706639\n",
      "Trabajando en doc 32572732\n",
      "Trabajando en doc 32343006\n",
      "Trabajando en doc 32183248\n",
      "Trabajando en doc 30652121\n",
      "Trabajando en doc 30299444\n",
      "Trabajando en doc 29750164\n",
      "Trabajando en doc 28140268\n",
      "Trabajando en doc 27883182\n",
      "Trabajando en doc 26977471\n"
     ]
    },
    {
     "name": "stderr",
     "output_type": "stream",
     "text": []
    },
    {
     "name": "stdout",
     "output_type": "stream",
     "text": [
      "Trabajando en doc 26854136\n",
      "Trabajando en doc 26854137\n",
      "Trabajando en doc 26238174\n",
      "Trabajando en doc 25043850\n",
      "Trabajando en doc 20187228\n",
      "Trabajando en doc 26617173\n",
      "Trabajando en doc 17410405\n",
      "Trabajando en doc 15966690\n",
      "Trabajando en doc 15908588\n",
      "Trabajando en doc 15508861\n",
      "Trabajando en doc 14296407\n",
      "Trabajando en doc 12739514\n",
      "Trabajando en doc 12881876\n",
      "Trabajando en doc 10640665\n"
     ]
    },
    {
     "name": "stderr",
     "output_type": "stream",
     "text": []
    },
    {
     "name": "stdout",
     "output_type": "stream",
     "text": [
      "Trabajando en doc 10622269\n",
      "Trabajando en doc 9506700\n",
      "Trabajando en doc 9511921\n",
      "Trabajando en doc 9520152\n",
      "Trabajando en doc 9819855\n",
      "Trabajando en doc 10810478\n",
      "Trabajando en doc 7591903\n",
      "Trabajando en doc 7726672\n",
      "Trabajando en doc 6807610\n",
      "Trabajando en doc 5795713\n",
      "Trabajando en doc 2980246\n",
      "Trabajando en doc 1932132\n",
      "Trabajando en doc 1816591\n",
      "Trabajando en doc 748736\n"
     ]
    },
    {
     "name": "stderr",
     "output_type": "stream",
     "text": [
      " 98%|███████████████████████████████████████████████████████▉ | 50/51 [00:06<00:00,  7.70elemento/s]\n",
      " 18%|█▊        | 46/249 [01:43<17:17,  5.11s/it]"
     ]
    },
    {
     "name": "stdout",
     "output_type": "stream",
     "text": [
      "Trabajando en doc 437351\n",
      "Trabajando en doc 6102525\n",
      "Trabajando en doc 437149\n",
      "Trabajando en doc 442198\n",
      "Trabajando en doc 693481\n",
      "++++++++++++++++++++++++++++++++++ END CM ++++++++++++++++++++++++++++++++++\n",
      "iniciando raspado de CD\n",
      "47\n",
      "Archivo JSON creado exitosamente.\n"
     ]
    },
    {
     "name": "stderr",
     "output_type": "stream",
     "text": []
    },
    {
     "name": "stdout",
     "output_type": "stream",
     "text": [
      "Trabajando en doc 34066946\n",
      "Trabajando en doc 34063234\n",
      "Trabajando en doc 34018987\n",
      "Trabajando en doc 33904235\n",
      "Trabajando en doc 33835347\n",
      "Trabajando en doc 33789587\n",
      "Trabajando en doc 33761813\n",
      "Trabajando en doc 33653047\n",
      "Trabajando en doc 33167638\n",
      "Trabajando en doc 32905455\n"
     ]
    },
    {
     "name": "stderr",
     "output_type": "stream",
     "text": []
    },
    {
     "name": "stdout",
     "output_type": "stream",
     "text": [
      "Trabajando en doc 31924878\n",
      "Trabajando en doc 31084172\n",
      "Trabajando en doc 30136598\n",
      "Trabajando en doc 29993266\n",
      "Trabajando en doc 30209436\n",
      "Trabajando en doc 26394029\n",
      "Error al descargar el archivo output\\CD\\PAD1789-26394029.txt de ID 26394029: Invalid URL '': No scheme supplied. Perhaps you meant https://?\n",
      "Trabajando en doc 27364658\n",
      "Trabajando en doc 27227345\n",
      "Trabajando en doc 26117546\n"
     ]
    },
    {
     "name": "stderr",
     "output_type": "stream",
     "text": []
    },
    {
     "name": "stdout",
     "output_type": "stream",
     "text": [
      "Trabajando en doc 24893143\n",
      "Trabajando en doc 24080180\n",
      "Trabajando en doc 20458408\n",
      "Trabajando en doc 19630503\n",
      "Trabajando en doc 19368624\n",
      "Trabajando en doc 19201720\n",
      "Trabajando en doc 19184249\n",
      "Trabajando en doc 19033554\n",
      "Trabajando en doc 18794001\n",
      "Trabajando en doc 18530979\n",
      "Trabajando en doc 17747053\n",
      "Trabajando en doc 17817566\n",
      "Trabajando en doc 17816580\n"
     ]
    },
    {
     "name": "stderr",
     "output_type": "stream",
     "text": []
    },
    {
     "name": "stdout",
     "output_type": "stream",
     "text": [
      "Trabajando en doc 17597154\n",
      "Trabajando en doc 14250411\n",
      "Trabajando en doc 12383867\n",
      "Trabajando en doc 12383980\n",
      "Trabajando en doc 12259604\n",
      "Trabajando en doc 11936028\n",
      "Trabajando en doc 10371448\n",
      "Trabajando en doc 10358112\n",
      "Trabajando en doc 10127630\n",
      "Trabajando en doc 9333611\n",
      "Trabajando en doc 9044341\n",
      "Trabajando en doc 7601456\n",
      "Trabajando en doc 6212984\n",
      "Trabajando en doc 3038280\n"
     ]
    },
    {
     "name": "stderr",
     "output_type": "stream",
     "text": [
      " 98%|███████████████████████████████████████████████████████▊ | 47/48 [00:00<00:00, 55.62elemento/s]\n",
      " 19%|█▉        | 47/249 [01:46<15:46,  4.69s/it]"
     ]
    },
    {
     "name": "stdout",
     "output_type": "stream",
     "text": [
      "Trabajando en doc 2421725\n",
      "++++++++++++++++++++++++++++++++++ END CD ++++++++++++++++++++++++++++++++++\n",
      "iniciando raspado de CG\n",
      "28\n",
      "Archivo JSON creado exitosamente.\n"
     ]
    },
    {
     "name": "stderr",
     "output_type": "stream",
     "text": []
    },
    {
     "name": "stdout",
     "output_type": "stream",
     "text": [
      "Trabajando en doc 34017525\n",
      "Trabajando en doc 33819086\n",
      "Trabajando en doc 33815663\n",
      "Se descargoo output\\CG\\observation-33815663.pdf de ID 33815663.\n"
     ]
    },
    {
     "name": "stderr",
     "output_type": "stream",
     "text": []
    },
    {
     "name": "stdout",
     "output_type": "stream",
     "text": [
      "Se descargoo output\\CG\\observation-33815663.txt de ID 33815663.\n",
      "Trabajando en doc 33713117\n",
      "Trabajando en doc 33064353\n",
      "Trabajando en doc 32974792\n",
      "Trabajando en doc 32157940\n",
      "Trabajando en doc 32029517\n",
      "Trabajando en doc 29890596\n",
      "Trabajando en doc 27677306\n",
      "Trabajando en doc 27377453\n"
     ]
    },
    {
     "name": "stderr",
     "output_type": "stream",
     "text": []
    },
    {
     "name": "stdout",
     "output_type": "stream",
     "text": [
      "Trabajando en doc 26216540\n",
      "Trabajando en doc 25857717\n",
      "Trabajando en doc 19546879\n",
      "Trabajando en doc 18794003\n",
      "Trabajando en doc 18605613\n",
      "Trabajando en doc 18170051\n",
      "Trabajando en doc 16259389\n",
      "Trabajando en doc 15785462\n",
      "Trabajando en doc 13174268\n",
      "Trabajando en doc 11913167\n",
      "Trabajando en doc 9664540\n",
      "Trabajando en doc 9435782\n"
     ]
    },
    {
     "name": "stderr",
     "output_type": "stream",
     "text": [
      " 97%|███████████████████████████████████████████████████████  | 28/29 [00:04<00:00,  6.59elemento/s]\n",
      " 19%|█▉        | 48/249 [01:53<17:44,  5.30s/it]"
     ]
    },
    {
     "name": "stdout",
     "output_type": "stream",
     "text": [
      "Trabajando en doc 7611790\n",
      "Trabajando en doc 5103680\n",
      "Trabajando en doc 5664005\n",
      "Trabajando en doc 7464738\n",
      "Trabajando en doc 3064880\n",
      "++++++++++++++++++++++++++++++++++ END CG ++++++++++++++++++++++++++++++++++\n",
      "iniciando raspado de CK\n"
     ]
    },
    {
     "name": "stderr",
     "output_type": "stream",
     "text": [
      " 20%|█▉        | 49/249 [01:54<13:06,  3.93s/it]"
     ]
    },
    {
     "name": "stdout",
     "output_type": "stream",
     "text": [
      "0\n",
      "0 no contiene documentos\n",
      "iniciando raspado de CO\n",
      "77\n",
      "Archivo JSON creado exitosamente.\n"
     ]
    },
    {
     "name": "stderr",
     "output_type": "stream",
     "text": []
    },
    {
     "name": "stdout",
     "output_type": "stream",
     "text": [
      "Trabajando en doc 33753024\n",
      "Trabajando en doc 33064183\n",
      "Trabajando en doc 31289001\n",
      "Trabajando en doc 30868275\n",
      "Trabajando en doc 30272850\n",
      "Trabajando en doc 30209457\n",
      "Trabajando en doc 30264265\n",
      "Trabajando en doc 28866607\n",
      "Trabajando en doc 27091964\n",
      "Trabajando en doc 26816171\n",
      "Trabajando en doc 24139706\n",
      "Trabajando en doc 20411531\n",
      "Trabajando en doc 19244906\n"
     ]
    },
    {
     "name": "stderr",
     "output_type": "stream",
     "text": []
    },
    {
     "name": "stdout",
     "output_type": "stream",
     "text": [
      "Trabajando en doc 20160263\n",
      "Trabajando en doc 19336143\n",
      "Trabajando en doc 18562550\n",
      "Trabajando en doc 14498905\n",
      "Trabajando en doc 15639500\n",
      "Trabajando en doc 14561040\n",
      "Trabajando en doc 13259435\n",
      "Trabajando en doc 13184855\n",
      "Trabajando en doc 14838565\n",
      "Trabajando en doc 12450745\n",
      "Trabajando en doc 13724740\n",
      "Trabajando en doc 11888968\n",
      "Trabajando en doc 11430467\n",
      "Trabajando en doc 11430480\n"
     ]
    },
    {
     "name": "stderr",
     "output_type": "stream",
     "text": []
    },
    {
     "name": "stdout",
     "output_type": "stream",
     "text": [
      "Trabajando en doc 10836504\n",
      "Trabajando en doc 10066942\n",
      "Trabajando en doc 10066508\n",
      "Trabajando en doc 9335365\n",
      "Trabajando en doc 9014957\n",
      "Trabajando en doc 8842335\n",
      "Trabajando en doc 8025867\n",
      "Trabajando en doc 8012761\n",
      "Trabajando en doc 7783316\n",
      "Trabajando en doc 8012089\n",
      "Trabajando en doc 7397240\n",
      "Trabajando en doc 7418349\n",
      "Trabajando en doc 6678772\n",
      "Trabajando en doc 6656634\n",
      "Trabajando en doc 6605486\n",
      "Trabajando en doc 6340007\n",
      "Trabajando en doc 6343440\n"
     ]
    },
    {
     "name": "stderr",
     "output_type": "stream",
     "text": []
    },
    {
     "name": "stdout",
     "output_type": "stream",
     "text": [
      "Trabajando en doc 6082750\n",
      "Trabajando en doc 5851754\n",
      "Trabajando en doc 5812539\n",
      "Trabajando en doc 5622752\n",
      "Trabajando en doc 5179539\n",
      "Trabajando en doc 3655718\n",
      "Trabajando en doc 3659918\n",
      "Trabajando en doc 4664725\n",
      "Trabajando en doc 2464711\n",
      "Trabajando en doc 2148258\n",
      "Trabajando en doc 2075364\n",
      "Trabajando en doc 2079730\n",
      "Trabajando en doc 1653716\n",
      "Trabajando en doc 1631795\n",
      "Trabajando en doc 1614790\n",
      "Trabajando en doc 1614793\n",
      "Trabajando en doc 1047357\n"
     ]
    },
    {
     "name": "stderr",
     "output_type": "stream",
     "text": []
    },
    {
     "name": "stdout",
     "output_type": "stream",
     "text": [
      "Trabajando en doc 1003156\n",
      "Trabajando en doc 1000587\n",
      "Trabajando en doc 436929\n",
      "Trabajando en doc 437793\n",
      "Trabajando en doc 437978\n",
      "Trabajando en doc 437985\n",
      "Trabajando en doc 440081\n",
      "Trabajando en doc 442227\n",
      "Trabajando en doc 16773321\n",
      "Trabajando en doc 442098\n",
      "Trabajando en doc 442118\n",
      "Trabajando en doc 442119\n",
      "Trabajando en doc 693522\n",
      "Trabajando en doc 693983\n",
      "Trabajando en doc 693981\n",
      "Trabajando en doc 695002\n"
     ]
    },
    {
     "name": "stderr",
     "output_type": "stream",
     "text": [
      " 99%|████████████████████████████████████████████████████████▎| 77/78 [00:01<00:00, 73.85elemento/s]\n",
      " 20%|██        | 50/249 [01:57<12:40,  3.82s/it]"
     ]
    },
    {
     "name": "stdout",
     "output_type": "stream",
     "text": [
      "++++++++++++++++++++++++++++++++++ END CO ++++++++++++++++++++++++++++++++++\n",
      "iniciando raspado de KM\n",
      "17\n",
      "Archivo JSON creado exitosamente.\n"
     ]
    },
    {
     "name": "stderr",
     "output_type": "stream",
     "text": []
    },
    {
     "name": "stdout",
     "output_type": "stream",
     "text": [
      "Trabajando en doc 33955137\n",
      "Trabajando en doc 33815314\n",
      "Trabajando en doc 33810036\n",
      "Trabajando en doc 33250225\n",
      "Trabajando en doc 32153523\n",
      "Trabajando en doc 32097724\n",
      "Trabajando en doc 31633848\n",
      "Trabajando en doc 31166573\n",
      "Trabajando en doc 31045856\n",
      "Trabajando en doc 27038851\n",
      "Trabajando en doc 24088311\n",
      "Trabajando en doc 18125133\n",
      "Trabajando en doc 13417143\n",
      "Trabajando en doc 2964130\n",
      "Trabajando en doc 891734\n"
     ]
    },
    {
     "name": "stderr",
     "output_type": "stream",
     "text": [
      " 94%|█████████████████████████████████████████████████████▊   | 17/18 [00:00<00:00, 51.24elemento/s]\n",
      " 20%|██        | 51/249 [02:00<10:53,  3.30s/it]"
     ]
    },
    {
     "name": "stdout",
     "output_type": "stream",
     "text": [
      "Trabajando en doc 442095\n",
      "Trabajando en doc 693959\n",
      "++++++++++++++++++++++++++++++++++ END KM ++++++++++++++++++++++++++++++++++\n",
      "iniciando raspado de CV\n",
      "23\n",
      "Archivo JSON creado exitosamente.\n"
     ]
    },
    {
     "name": "stderr",
     "output_type": "stream",
     "text": []
    },
    {
     "name": "stdout",
     "output_type": "stream",
     "text": [
      "Trabajando en doc 33819100\n",
      "Trabajando en doc 33773249\n",
      "Trabajando en doc 33568532\n",
      "Trabajando en doc 32527137\n",
      "Trabajando en doc 31921796\n",
      "Trabajando en doc 30652122\n",
      "Trabajando en doc 30588516\n"
     ]
    },
    {
     "name": "stderr",
     "output_type": "stream",
     "text": []
    },
    {
     "name": "stdout",
     "output_type": "stream",
     "text": [
      "Trabajando en doc 29905856\n",
      "Trabajando en doc 29555170\n",
      "Trabajando en doc 29613003\n",
      "Trabajando en doc 26262207\n",
      "Trabajando en doc 17804563\n",
      "Trabajando en doc 15586027\n",
      "Trabajando en doc 12074917\n",
      "Trabajando en doc 5865009\n",
      "Trabajando en doc 2803961\n",
      "Trabajando en doc 2259447\n",
      "Trabajando en doc 1729367\n",
      "Trabajando en doc 439545\n",
      "Trabajando en doc 440645\n",
      "Trabajando en doc 440640\n"
     ]
    },
    {
     "name": "stderr",
     "output_type": "stream",
     "text": [
      " 96%|██████████████████████████████████████████████████████▋  | 23/24 [00:00<00:00, 53.61elemento/s]\n",
      " 21%|██        | 52/249 [02:02<10:03,  3.07s/it]"
     ]
    },
    {
     "name": "stdout",
     "output_type": "stream",
     "text": [
      "Trabajando en doc 440891\n",
      "Trabajando en doc 442214\n",
      "++++++++++++++++++++++++++++++++++ END CV ++++++++++++++++++++++++++++++++++\n",
      "iniciando raspado de CR\n",
      "15\n",
      "Archivo JSON creado exitosamente.\n"
     ]
    },
    {
     "name": "stderr",
     "output_type": "stream",
     "text": []
    },
    {
     "name": "stdout",
     "output_type": "stream",
     "text": [
      "Trabajando en doc 33826352\n",
      "Trabajando en doc 32647039\n",
      "Trabajando en doc 31856427\n",
      "Trabajando en doc 31856431\n",
      "Trabajando en doc 25997426\n",
      "Trabajando en doc 17385372\n",
      "Trabajando en doc 16717360\n",
      "Trabajando en doc 16742396\n",
      "Trabajando en doc 8883454\n",
      "Trabajando en doc 6804681\n",
      "Trabajando en doc 6805188\n",
      "Trabajando en doc 5656407\n",
      "Trabajando en doc 13791503\n",
      "Trabajando en doc 1346404\n",
      "Trabajando en doc 437665\n"
     ]
    },
    {
     "name": "stderr",
     "output_type": "stream",
     "text": [
      " 94%|█████████████████████████████████████████████████████▍   | 15/16 [00:00<00:00, 76.02elemento/s]\n",
      " 21%|██▏       | 53/249 [02:05<09:23,  2.88s/it]"
     ]
    },
    {
     "name": "stdout",
     "output_type": "stream",
     "text": [
      "++++++++++++++++++++++++++++++++++ END CR ++++++++++++++++++++++++++++++++++\n",
      "iniciando raspado de CU\n"
     ]
    },
    {
     "name": "stderr",
     "output_type": "stream",
     "text": [
      " 22%|██▏       | 54/249 [02:05<07:16,  2.24s/it]"
     ]
    },
    {
     "name": "stdout",
     "output_type": "stream",
     "text": [
      "0\n",
      "0 no contiene documentos\n",
      "iniciando raspado de CW\n"
     ]
    },
    {
     "name": "stderr",
     "output_type": "stream",
     "text": [
      " 22%|██▏       | 55/249 [02:06<05:44,  1.78s/it]"
     ]
    },
    {
     "name": "stdout",
     "output_type": "stream",
     "text": [
      "0\n",
      "0 no contiene documentos\n",
      "iniciando raspado de CX\n"
     ]
    },
    {
     "name": "stderr",
     "output_type": "stream",
     "text": [
      " 22%|██▏       | 56/249 [02:07<04:33,  1.42s/it]"
     ]
    },
    {
     "name": "stdout",
     "output_type": "stream",
     "text": [
      "0\n",
      "0 no contiene documentos\n",
      "iniciando raspado de KY\n"
     ]
    },
    {
     "name": "stderr",
     "output_type": "stream",
     "text": [
      " 23%|██▎       | 57/249 [02:07<03:45,  1.17s/it]"
     ]
    },
    {
     "name": "stdout",
     "output_type": "stream",
     "text": [
      "0\n",
      "0 no contiene documentos\n",
      "iniciando raspado de CY\n"
     ]
    },
    {
     "name": "stderr",
     "output_type": "stream",
     "text": [
      " 23%|██▎       | 58/249 [02:08<03:25,  1.08s/it]"
     ]
    },
    {
     "name": "stdout",
     "output_type": "stream",
     "text": [
      "0\n",
      "0 no contiene documentos\n",
      "iniciando raspado de CZ\n"
     ]
    },
    {
     "name": "stderr",
     "output_type": "stream",
     "text": [
      " 24%|██▎       | 59/249 [02:09<03:13,  1.02s/it]"
     ]
    },
    {
     "name": "stdout",
     "output_type": "stream",
     "text": [
      "0\n",
      "0 no contiene documentos\n",
      "iniciando raspado de DE\n"
     ]
    },
    {
     "name": "stderr",
     "output_type": "stream",
     "text": [
      " 24%|██▍       | 60/249 [02:09<02:48,  1.12it/s]"
     ]
    },
    {
     "name": "stdout",
     "output_type": "stream",
     "text": [
      "0\n",
      "0 no contiene documentos\n",
      "iniciando raspado de DJ\n",
      "45\n",
      "Archivo JSON creado exitosamente.\n"
     ]
    },
    {
     "name": "stderr",
     "output_type": "stream",
     "text": []
    },
    {
     "name": "stdout",
     "output_type": "stream",
     "text": [
      "Trabajando en doc 34104594\n",
      "Trabajando en doc 33919727\n",
      "Trabajando en doc 33846816\n",
      "Trabajando en doc 33814096\n",
      "Trabajando en doc 33751867\n",
      "Trabajando en doc 33907635\n",
      "Trabajando en doc 33907704\n",
      "Trabajando en doc 33653187\n",
      "Trabajando en doc 32037176\n",
      "Trabajando en doc 32279051\n",
      "Trabajando en doc 31968515\n",
      "Trabajando en doc 31933142\n",
      "Trabajando en doc 31403556\n",
      "Trabajando en doc 32298570\n"
     ]
    },
    {
     "name": "stderr",
     "output_type": "stream",
     "text": []
    },
    {
     "name": "stdout",
     "output_type": "stream",
     "text": [
      "Trabajando en doc 32506430\n",
      "Trabajando en doc 31019367\n",
      "Trabajando en doc 31089861\n",
      "Trabajando en doc 30929867\n",
      "Trabajando en doc 30922928\n",
      "Trabajando en doc 30551956\n",
      "Trabajando en doc 30190235\n",
      "Trabajando en doc 30366682\n",
      "Trabajando en doc 29792091\n",
      "Trabajando en doc 29830041\n",
      "Trabajando en doc 19447416\n",
      "Trabajando en doc 19411786\n"
     ]
    },
    {
     "name": "stderr",
     "output_type": "stream",
     "text": []
    },
    {
     "name": "stdout",
     "output_type": "stream",
     "text": [
      "Trabajando en doc 25244093\n",
      "Trabajando en doc 17730630\n",
      "Trabajando en doc 17430115\n",
      "Trabajando en doc 16276877\n",
      "Trabajando en doc 15556415\n",
      "Trabajando en doc 14250415\n",
      "Trabajando en doc 10792939\n",
      "Trabajando en doc 12800436\n",
      "Trabajando en doc 7033765\n"
     ]
    },
    {
     "name": "stderr",
     "output_type": "stream",
     "text": [
      " 98%|███████████████████████████████████████████████████████▊ | 45/46 [00:01<00:00, 27.19elemento/s]\n",
      " 24%|██▍       | 61/249 [02:15<07:08,  2.28s/it]"
     ]
    },
    {
     "name": "stdout",
     "output_type": "stream",
     "text": [
      "Trabajando en doc 6361309\n",
      "Trabajando en doc 6348440\n",
      "Trabajando en doc 2351703\n",
      "Trabajando en doc 2361803\n",
      "Trabajando en doc 1795617\n",
      "Trabajando en doc 729287\n",
      "Trabajando en doc 437513\n",
      "Trabajando en doc 16952296\n",
      "Trabajando en doc 440322\n",
      "Trabajando en doc 441997\n",
      "++++++++++++++++++++++++++++++++++ END DJ ++++++++++++++++++++++++++++++++++\n",
      "iniciando raspado de DM\n",
      "7\n",
      "Archivo JSON creado exitosamente.\n"
     ]
    },
    {
     "name": "stderr",
     "output_type": "stream",
     "text": [
      " 88%|███████████████████████████████████████████████████▋       | 7/8 [00:00<00:00, 49.68elemento/s]\n",
      " 25%|██▍       | 62/249 [02:21<10:43,  3.44s/it]"
     ]
    },
    {
     "name": "stdout",
     "output_type": "stream",
     "text": [
      "Trabajando en doc 33869955\n",
      "Trabajando en doc 32025319\n",
      "Trabajando en doc 30876957\n",
      "Trabajando en doc 29792107\n",
      "Trabajando en doc 29792101\n",
      "Trabajando en doc 19393604\n",
      "Trabajando en doc 7378941\n",
      "++++++++++++++++++++++++++++++++++ END DM ++++++++++++++++++++++++++++++++++\n",
      "iniciando raspado de DK\n"
     ]
    },
    {
     "name": "stderr",
     "output_type": "stream",
     "text": [
      " 25%|██▌       | 63/249 [02:22<08:22,  2.70s/it]"
     ]
    },
    {
     "name": "stdout",
     "output_type": "stream",
     "text": [
      "0\n",
      "0 no contiene documentos\n",
      "iniciando raspado de DO\n",
      "31\n",
      "Archivo JSON creado exitosamente.\n"
     ]
    },
    {
     "name": "stderr",
     "output_type": "stream",
     "text": []
    },
    {
     "name": "stdout",
     "output_type": "stream",
     "text": [
      "Trabajando en doc 34058410\n",
      "Trabajando en doc 34018119\n",
      "Trabajando en doc 33987579\n",
      "Trabajando en doc 33818245\n",
      "Trabajando en doc 32845186\n",
      "Trabajando en doc 30697025\n",
      "Trabajando en doc 25489463\n",
      "Trabajando en doc 24046395\n",
      "Trabajando en doc 24504173\n",
      "Trabajando en doc 20188666\n",
      "Trabajando en doc 12265679\n"
     ]
    },
    {
     "name": "stderr",
     "output_type": "stream",
     "text": []
    },
    {
     "name": "stdout",
     "output_type": "stream",
     "text": [
      "Trabajando en doc 11601632\n",
      "Trabajando en doc 10999292\n",
      "Trabajando en doc 10353951\n",
      "Trabajando en doc 9397456\n",
      "Trabajando en doc 7949508\n",
      "Trabajando en doc 9420726\n",
      "Trabajando en doc 6637223\n",
      "Trabajando en doc 7450371\n",
      "Trabajando en doc 2951529\n",
      "Trabajando en doc 2860916\n",
      "Trabajando en doc 2374040\n",
      "Trabajando en doc 7449815\n",
      "Trabajando en doc 1977234\n",
      "Trabajando en doc 1346302\n",
      "Trabajando en doc 693074\n",
      "Trabajando en doc 437797\n",
      "Trabajando en doc 440617\n"
     ]
    },
    {
     "name": "stderr",
     "output_type": "stream",
     "text": [
      " 97%|███████████████████████████████████████████████████████▏ | 31/32 [00:00<00:00, 66.25elemento/s]\n",
      " 26%|██▌       | 64/249 [02:25<08:02,  2.61s/it]"
     ]
    },
    {
     "name": "stdout",
     "output_type": "stream",
     "text": [
      "Trabajando en doc 441961\n",
      "Trabajando en doc 693728\n",
      "Trabajando en doc 693842\n",
      "++++++++++++++++++++++++++++++++++ END DO ++++++++++++++++++++++++++++++++++\n",
      "iniciando raspado de DZ\n",
      "14\n",
      "Archivo JSON creado exitosamente.\n"
     ]
    },
    {
     "name": "stderr",
     "output_type": "stream",
     "text": []
    },
    {
     "name": "stdout",
     "output_type": "stream",
     "text": [
      "Trabajando en doc 6672334\n",
      "Trabajando en doc 2274987\n",
      "Trabajando en doc 1803803\n",
      "Trabajando en doc 11049104\n"
     ]
    },
    {
     "name": "stderr",
     "output_type": "stream",
     "text": []
    },
    {
     "name": "stdout",
     "output_type": "stream",
     "text": [
      "Trabajando en doc 11049143\n",
      "Trabajando en doc 1490159\n",
      "Trabajando en doc 1490120\n"
     ]
    },
    {
     "name": "stderr",
     "output_type": "stream",
     "text": [
      " 93%|█████████████████████████████████████████████████████▏   | 14/15 [00:00<00:00, 42.07elemento/s]\n",
      " 26%|██▌       | 65/249 [02:27<07:33,  2.46s/it]"
     ]
    },
    {
     "name": "stdout",
     "output_type": "stream",
     "text": [
      "Trabajando en doc 891688\n",
      "Trabajando en doc 828394\n",
      "Trabajando en doc 437209\n",
      "Trabajando en doc 437415\n",
      "Trabajando en doc 437448\n",
      "Trabajando en doc 442211\n",
      "Trabajando en doc 441449\n",
      "++++++++++++++++++++++++++++++++++ END DZ ++++++++++++++++++++++++++++++++++\n",
      "iniciando raspado de EC\n",
      "38\n",
      "Archivo JSON creado exitosamente.\n"
     ]
    },
    {
     "name": "stderr",
     "output_type": "stream",
     "text": []
    },
    {
     "name": "stdout",
     "output_type": "stream",
     "text": [
      "Trabajando en doc 34073026\n",
      "Trabajando en doc 33842509\n",
      "Trabajando en doc 32132541\n",
      "Trabajando en doc 32526354\n",
      "Trabajando en doc 32054953\n",
      "Trabajando en doc 31924879\n",
      "Trabajando en doc 30914019\n",
      "Trabajando en doc 27296400\n",
      "Trabajando en doc 26917127\n",
      "Trabajando en doc 25998271"
     ]
    },
    {
     "name": "stderr",
     "output_type": "stream",
     "text": []
    },
    {
     "name": "stdout",
     "output_type": "stream",
     "text": [
      "\n",
      "Trabajando en doc 25750975\n",
      "Trabajando en doc 25091636\n",
      "Trabajando en doc 24725850\n",
      "Trabajando en doc 24310285\n",
      "Trabajando en doc 25835296\n",
      "Trabajando en doc 18028629\n",
      "Trabajando en doc 19531180\n",
      "Trabajando en doc 18369215\n",
      "Trabajando en doc 17977692\n",
      "Trabajando en doc 8711066\n",
      "Trabajando en doc 6903754\n",
      "Trabajando en doc 6906435\n",
      "Trabajando en doc 6952964\n"
     ]
    },
    {
     "name": "stderr",
     "output_type": "stream",
     "text": []
    },
    {
     "name": "stdout",
     "output_type": "stream",
     "text": [
      "Trabajando en doc 6786641\n",
      "Trabajando en doc 6572564\n",
      "Trabajando en doc 5546770\n",
      "Trabajando en doc 4242382\n",
      "Trabajando en doc 3774688\n",
      "Trabajando en doc 2055803\n",
      "Trabajando en doc 1719817\n",
      "Trabajando en doc 1614988\n",
      "Trabajando en doc 1346363\n",
      "Trabajando en doc 693044\n",
      "Trabajando en doc 437499\n",
      "Trabajando en doc 693524\n",
      "Trabajando en doc 693527\n",
      "Trabajando en doc 693841\n"
     ]
    },
    {
     "name": "stderr",
     "output_type": "stream",
     "text": [
      " 97%|███████████████████████████████████████████████████████▌ | 38/39 [00:00<00:00, 61.83elemento/s]\n",
      " 27%|██▋       | 66/249 [02:41<18:08,  5.95s/it]"
     ]
    },
    {
     "name": "stdout",
     "output_type": "stream",
     "text": [
      "Trabajando en doc 693890\n",
      "++++++++++++++++++++++++++++++++++ END EC ++++++++++++++++++++++++++++++++++\n",
      "iniciando raspado de EG\n",
      "74\n",
      "Archivo JSON creado exitosamente.\n"
     ]
    },
    {
     "name": "stderr",
     "output_type": "stream",
     "text": []
    },
    {
     "name": "stdout",
     "output_type": "stream",
     "text": [
      "Trabajando en doc 34043599\n",
      "Trabajando en doc 33950751\n",
      "Trabajando en doc 33909218\n",
      "Trabajando en doc 33930420\n"
     ]
    },
    {
     "name": "stderr",
     "output_type": "stream",
     "text": []
    },
    {
     "name": "stdout",
     "output_type": "stream",
     "text": [
      "Trabajando en doc 33844144\n",
      "Trabajando en doc 32840527\n"
     ]
    },
    {
     "name": "stderr",
     "output_type": "stream",
     "text": []
    },
    {
     "name": "stdout",
     "output_type": "stream",
     "text": [
      "Trabajando en doc 32892904\n",
      "Trabajando en doc 32417245\n",
      "Trabajando en doc 32088507\n",
      "Trabajando en doc 30949137\n",
      "Trabajando en doc 31128786\n",
      "Trabajando en doc 29977340\n"
     ]
    },
    {
     "name": "stderr",
     "output_type": "stream",
     "text": []
    },
    {
     "name": "stdout",
     "output_type": "stream",
     "text": [
      "Trabajando en doc 30309972\n",
      "Trabajando en doc 29877336\n",
      "Trabajando en doc 29767918\n",
      "Trabajando en doc 26739574\n",
      "Trabajando en doc 26958674\n"
     ]
    },
    {
     "name": "stderr",
     "output_type": "stream",
     "text": []
    },
    {
     "name": "stdout",
     "output_type": "stream",
     "text": [
      "Trabajando en doc 25777948\n",
      "Trabajando en doc 25954638\n",
      "Trabajando en doc 25954637\n",
      "Trabajando en doc 26681865\n",
      "Trabajando en doc 24773845\n",
      "Trabajando en doc 27039912\n",
      "Trabajando en doc 24376013\n",
      "Trabajando en doc 24201815\n",
      "Trabajando en doc 20328286\n",
      "Trabajando en doc 19767935\n"
     ]
    },
    {
     "name": "stderr",
     "output_type": "stream",
     "text": []
    },
    {
     "name": "stdout",
     "output_type": "stream",
     "text": [
      "Trabajando en doc 25142123\n",
      "Trabajando en doc 24768952\n",
      "Trabajando en doc 19603132\n",
      "Trabajando en doc 20352948\n"
     ]
    },
    {
     "name": "stderr",
     "output_type": "stream",
     "text": []
    },
    {
     "name": "stdout",
     "output_type": "stream",
     "text": [
      "Trabajando en doc 19251731\n",
      "Trabajando en doc 19362241\n",
      "Trabajando en doc 17961770\n",
      "Trabajando en doc 19691920\n",
      "Trabajando en doc 16473046\n",
      "Trabajando en doc 19385190\n",
      "Trabajando en doc 16498873\n",
      "Trabajando en doc 13155141\n",
      "Trabajando en doc 12487756\n"
     ]
    },
    {
     "name": "stderr",
     "output_type": "stream",
     "text": []
    },
    {
     "name": "stdout",
     "output_type": "stream",
     "text": [
      "Trabajando en doc 12286380\n",
      "Trabajando en doc 12098005\n",
      "Trabajando en doc 11830152\n",
      "Trabajando en doc 13337553\n",
      "Trabajando en doc 11735677\n",
      "Trabajando en doc 12545577\n",
      "Trabajando en doc 12090818\n",
      "Trabajando en doc 11444044\n",
      "Trabajando en doc 10282108\n",
      "Trabajando en doc 10170637\n",
      "Trabajando en doc 9057816\n",
      "Trabajando en doc 8918554\n",
      "Trabajando en doc 8780961\n",
      "Trabajando en doc 8194274\n",
      "Trabajando en doc 10774461\n"
     ]
    },
    {
     "name": "stderr",
     "output_type": "stream",
     "text": []
    },
    {
     "name": "stdout",
     "output_type": "stream",
     "text": [
      "Trabajando en doc 7683946\n",
      "Trabajando en doc 6864784\n",
      "Trabajando en doc 6662988\n",
      "Trabajando en doc 6575247\n",
      "Trabajando en doc 5795592\n"
     ]
    },
    {
     "name": "stderr",
     "output_type": "stream",
     "text": []
    },
    {
     "name": "stdout",
     "output_type": "stream",
     "text": [
      "Se descargoo output\\EG\\31571-5795592.pdf de ID 5795592.\n",
      "Trabajando en doc 5569692\n",
      "Trabajando en doc 3034309\n",
      "Trabajando en doc 2428796\n",
      "Trabajando en doc 2140346\n",
      "Trabajando en doc 1741060\n",
      "Trabajando en doc 437347\n",
      "Trabajando en doc 440959\n",
      "Se descargoo output\\EG\\19370-440959.pdf de ID 440959.\n"
     ]
    },
    {
     "name": "stderr",
     "output_type": "stream",
     "text": []
    },
    {
     "name": "stdout",
     "output_type": "stream",
     "text": [
      "Se descargoo output\\EG\\19370-440959.txt de ID 440959.\n",
      "Trabajando en doc 440624\n",
      "Se descargoo output\\EG\\19369-440624.txt de ID 440624.\n",
      "Trabajando en doc 441018\n",
      "Se descargoo output\\EG\\19044-441018.txt de ID 441018.\n",
      "Trabajando en doc 441519\n",
      "Se descargoo output\\EG\\18923-441519.txt de ID 441519.\n",
      "Trabajando en doc 442193\n",
      "Se descargoo output\\EG\\18341-442193.txt de ID 442193.\n",
      "Trabajando en doc 442059\n"
     ]
    },
    {
     "name": "stderr",
     "output_type": "stream",
     "text": []
    },
    {
     "name": "stdout",
     "output_type": "stream",
     "text": [
      "Se descargoo output\\EG\\18163-442059.txt de ID 442059.\n",
      "Trabajando en doc 693546\n",
      "Se descargoo output\\EG\\17773-693546.txt de ID 693546.\n",
      "Trabajando en doc 693598\n"
     ]
    },
    {
     "name": "stderr",
     "output_type": "stream",
     "text": [
      " 99%|████████████████████████████████████████████████████████▏| 74/75 [00:26<00:00,  2.80elemento/s]\n",
      " 27%|██▋       | 67/249 [03:10<38:54, 12.83s/it]"
     ]
    },
    {
     "name": "stdout",
     "output_type": "stream",
     "text": [
      "Se descargoo output\\EG\\17214-693598.txt de ID 693598.\n",
      "++++++++++++++++++++++++++++++++++ END EG ++++++++++++++++++++++++++++++++++\n",
      "iniciando raspado de ER\n",
      "9\n",
      "Archivo JSON creado exitosamente.\n"
     ]
    },
    {
     "name": "stderr",
     "output_type": "stream",
     "text": []
    },
    {
     "name": "stdout",
     "output_type": "stream",
     "text": [
      "Trabajando en doc 9506759\n",
      "Se descargoo output\\ER\\43957-9506759.pdf de ID 9506759.\n"
     ]
    },
    {
     "name": "stderr",
     "output_type": "stream",
     "text": []
    },
    {
     "name": "stdout",
     "output_type": "stream",
     "text": [
      "Se descargoo output\\ER\\43957-9506759.txt de ID 9506759.\n",
      "Trabajando en doc 5860177\n",
      "Se descargoo output\\ER\\31853-5860177.pdf de ID 5860177.\n"
     ]
    },
    {
     "name": "stderr",
     "output_type": "stream",
     "text": []
    },
    {
     "name": "stdout",
     "output_type": "stream",
     "text": [
      "Se descargoo output\\ER\\31853-5860177.txt de ID 5860177.\n",
      "Trabajando en doc 4327873\n"
     ]
    },
    {
     "name": "stderr",
     "output_type": "stream",
     "text": []
    },
    {
     "name": "stdout",
     "output_type": "stream",
     "text": [
      "Se descargoo output\\ER\\29149-4327873.txt de ID 4327873.\n",
      "Trabajando en doc 2365140\n"
     ]
    },
    {
     "name": "stderr",
     "output_type": "stream",
     "text": []
    },
    {
     "name": "stdout",
     "output_type": "stream",
     "text": [
      "Se descargoo output\\ER\\25909-2365140.txt de ID 2365140.\n",
      "Trabajando en doc 1346393\n"
     ]
    },
    {
     "name": "stderr",
     "output_type": "stream",
     "text": []
    },
    {
     "name": "stdout",
     "output_type": "stream",
     "text": [
      "Se descargoo output\\ER\\21138-1346393.txt de ID 1346393.\n",
      "Trabajando en doc 729312\n"
     ]
    },
    {
     "name": "stderr",
     "output_type": "stream",
     "text": []
    },
    {
     "name": "stdout",
     "output_type": "stream",
     "text": [
      "Se descargoo output\\ER\\20608-729312.txt de ID 729312.\n",
      "Trabajando en doc 437175\n"
     ]
    },
    {
     "name": "stderr",
     "output_type": "stream",
     "text": []
    },
    {
     "name": "stdout",
     "output_type": "stream",
     "text": [
      "Se descargoo output\\ER\\20373-437175.txt de ID 437175.\n",
      "Trabajando en doc 693847\n"
     ]
    },
    {
     "name": "stderr",
     "output_type": "stream",
     "text": []
    },
    {
     "name": "stdout",
     "output_type": "stream",
     "text": [
      "Se descargoo output\\ER\\17001-693847.txt de ID 693847.\n",
      "Trabajando en doc 693900\n",
      "Se descargoo output\\ER\\16501-693900.pdf de ID 693900.\n"
     ]
    },
    {
     "name": "stderr",
     "output_type": "stream",
     "text": [
      " 90%|████████████████████████████████████████████████████▏     | 9/10 [00:32<00:03,  3.56s/elemento]\n",
      " 27%|██▋       | 68/249 [03:43<57:45, 19.15s/it]"
     ]
    },
    {
     "name": "stdout",
     "output_type": "stream",
     "text": [
      "Se descargoo output\\ER\\16501-693900.txt de ID 693900.\n",
      "++++++++++++++++++++++++++++++++++ END ER ++++++++++++++++++++++++++++++++++\n",
      "iniciando raspado de EH\n"
     ]
    },
    {
     "name": "stderr",
     "output_type": "stream",
     "text": [
      " 28%|██▊       | 69/249 [03:45<41:46, 13.93s/it]"
     ]
    },
    {
     "name": "stdout",
     "output_type": "stream",
     "text": [
      "0\n",
      "0 no contiene documentos\n",
      "iniciando raspado de ES\n"
     ]
    },
    {
     "name": "stderr",
     "output_type": "stream",
     "text": [
      " 28%|██▊       | 70/249 [03:46<29:49, 10.00s/it]"
     ]
    },
    {
     "name": "stdout",
     "output_type": "stream",
     "text": [
      "0\n",
      "0 no contiene documentos\n",
      "iniciando raspado de EE\n",
      "1\n",
      "Archivo JSON creado exitosamente.\n"
     ]
    },
    {
     "name": "stderr",
     "output_type": "stream",
     "text": []
    },
    {
     "name": "stdout",
     "output_type": "stream",
     "text": [
      "Trabajando en doc 437903\n"
     ]
    },
    {
     "name": "stderr",
     "output_type": "stream",
     "text": [
      " 50%|█████████████████████████████▌                             | 1/2 [00:01<00:01,  1.18s/elemento]\n",
      " 29%|██▊       | 71/249 [03:49<23:00,  7.76s/it]"
     ]
    },
    {
     "name": "stdout",
     "output_type": "stream",
     "text": [
      "Se descargoo output\\EE\\19672-437903.txt de ID 437903.\n",
      "++++++++++++++++++++++++++++++++++ END EE ++++++++++++++++++++++++++++++++++\n",
      "iniciando raspado de ET\n",
      "98\n",
      "Archivo JSON creado exitosamente.\n"
     ]
    },
    {
     "name": "stderr",
     "output_type": "stream",
     "text": []
    },
    {
     "name": "stdout",
     "output_type": "stream",
     "text": [
      "Trabajando en doc 34104594\n",
      "Se descargoo output\\ET\\PAD4425-34104594.pdf de ID 34104594.\n"
     ]
    },
    {
     "name": "stderr",
     "output_type": "stream",
     "text": []
    },
    {
     "name": "stdout",
     "output_type": "stream",
     "text": [
      "Se descargoo output\\ET\\PAD4425-34104594.txt de ID 34104594.\n",
      "Trabajando en doc 34067377\n",
      "Se descargoo output\\ET\\PAD4409-34067377.pdf de ID 34067377.\n"
     ]
    },
    {
     "name": "stderr",
     "output_type": "stream",
     "text": []
    },
    {
     "name": "stdout",
     "output_type": "stream",
     "text": [
      "Se descargoo output\\ET\\PAD4409-34067377.txt de ID 34067377.\n",
      "Trabajando en doc 33993630\n",
      "Se descargoo output\\ET\\PAD1209-33993630.pdf de ID 33993630.\n",
      "Se descargoo output\\ET\\PAD1209-33993630.txt de ID 33993630.\n",
      "Trabajando en doc 33943217\n"
     ]
    }
   ],
   "source": [
    "# !! install pip install pycountry\n",
    "import pycountry\n",
    "\n",
    "# Get a list of all countries\n",
    "countries = list(pycountry.countries)\n",
    "\n",
    "# Extract the alpha_2 country codes and put them in a list\n",
    "country_codes = [country.alpha_2 for country in countries]\n",
    "\n",
    "len_codes = len(country_codes)\n",
    "\n",
    "# print(country_codes)\n",
    "for country_code in tqdm(country_codes, total=len_codes):\n",
    "    print(f'iniciando raspado de {country_code}')\n",
    "    scraper_pdf(country_code)\n",
    "    import requests\n",
    "import json\n",
    "import os\n",
    "from tqdm import tqdm\n",
    "\n",
    "def limpiar_consola():\n",
    "    os.system('cls' if os.name == 'nt' else 'clear')\n",
    "\n",
    "\n",
    "def scraper_pdf(cod_country):\n",
    "    # URL para obtener los datos JSON\n",
    "    url = f'https://search.worldbank.org/api/v2/wds?format=json&fct=docty_exact,count_exact,lang_exact,disclstat_exact&rows=0&apilang=en&docty_key=540656&order=desc&os=0&srt=docdt&countrycode_exact={cod_country}'\n",
    "\n",
    "    response = requests.get(url)\n",
    "    total_docs = response.json()['total']\n",
    "    print(total_docs)\n",
    "\n",
    "    if total_docs == 0:\n",
    "        return print('{} no contiene documentos'.format(total_docs))\n",
    "\n",
    "    # Obtener el JSON con todos los registros\n",
    "    url = f'https://search.worldbank.org/api/v2/wds?format=json&fct=docty_exact,count_exact,lang_exact,disclstat_exact&rows={total_docs}&apilang=en&docty_key=540656&order=desc&os=0&srt=docdt&countrycode_exact={cod_country}'\n",
    "    response = requests.get(url)\n",
    "    response = response.json()\n",
    "\n",
    "    output_json = 'output_json'\n",
    "    # Crear la carpeta  dentro de \"output\" si no existe\n",
    "    if not os.path.exists(output_json):\n",
    "        os.makedirs(output_json)\n",
    "\n",
    "    # Especificar la ruta y el nombre del archivo JSON\n",
    "    ruta_archivo = f\"./{output_json}/{cod_country}.json\"\n",
    "\n",
    "    # Escribir los datos en el archivo JSON\n",
    "    with open(ruta_archivo, \"w\") as archivo:\n",
    "        json.dump(response, archivo, indent=4)\n",
    "\n",
    "    print(\"Archivo JSON creado exitosamente.\")\n",
    "\n",
    "    # Crear la carpeta \"output\" si no existe\n",
    "    output_folder = \"output\"\n",
    "    if not os.path.exists(output_folder):\n",
    "        os.makedirs(output_folder)\n",
    "\n",
    "    # Crear la carpeta \"PE\" dentro de \"output\" si no existe\n",
    "    pe_folder = os.path.join(output_folder, cod_country)\n",
    "    if not os.path.exists(pe_folder):\n",
    "        os.makedirs(pe_folder)\n",
    "\n",
    "    # Cargar los datos del archivo JSON\n",
    "    with open(ruta_archivo) as archivo:\n",
    "        datos = json.load(archivo)\n",
    "\n",
    "    # Obtener la lista de documentos\n",
    "    documents = datos[\"documents\"]\n",
    "    len_docs = len(documents)\n",
    "\n",
    "    # Iterar sobre los documentos\n",
    "    for key, obj in tqdm(documents.items(), total=len_docs, unit='elemento', ncols=100):\n",
    "\n",
    "        if key == 'facets':\n",
    "            print(f'++++++++++++++++++++++++++++++++++ END {cod_country} ++++++++++++++++++++++++++++++++++')\n",
    "            break\n",
    "        name_id = obj['id'] # Él, id evitará obviar descargas.\n",
    "        print(f'Trabajando en doc {name_id}')\n",
    "        \n",
    "       \n",
    "        name_repnb = obj['repnb'] if 'repnb' in obj else 'observation'\n",
    "        extension_pdf = '.pdf'\n",
    "        extension_txt = '.txt'\n",
    "\n",
    "        lang = obj['lang']\n",
    "        another_lang = '' if lang == 'English' else '-' + lang.lower()\n",
    "\n",
    "        # Verificar si la clave \"pdfurl\" existe en el objeto\n",
    "        pdf_url = ''\n",
    "        if \"pdfurl\" in obj:\n",
    "            pdf_url = obj['pdfurl']\n",
    "        txt_url = ''    \n",
    "        if \"txturl\" in obj:\n",
    "            txt_url = obj['txturl']\n",
    "\n",
    "        name_pdf = name_repnb + '-' + name_id + another_lang + extension_pdf\n",
    "        name_txt = name_repnb + '-' + name_id + another_lang + extension_txt\n",
    "\n",
    "        # Ruta completa del archivo pdf en la carpeta\n",
    "        pdf_filename = os.path.join(pe_folder, name_pdf)\n",
    "        # Ruta completa del archivo txt en la carpeta\n",
    "        txt_filename = os.path.join(pe_folder, name_txt)\n",
    "\n",
    "        path_and_url = {pdf_filename: pdf_url, txt_filename: txt_url} if \"pdfurl\" in obj else {txt_filename: txt_url}\n",
    "\n",
    "        try:\n",
    "\n",
    "            for path, url in path_and_url.items():\n",
    "            # Verificar si el archivo ya existe\n",
    "                if not os.path.exists(path):\n",
    "                    # Descargar el archivo PDF\n",
    "\n",
    "                    try:\n",
    "                        output = requests.get(url)\n",
    "                        # Verificar si la descarga fue exitosa\n",
    "                        if output.status_code == 200:\n",
    "                            # Guardar el archivo en la carpeta\n",
    "                            with open(path, 'wb') as f:\n",
    "                                f.write(output.content)\n",
    "                            print(f'Se descargoo {path} de ID {name_id}.')\n",
    "                        else:\n",
    "                            print(f'NO!!! se pudo descargar {path} de ID {name_id}.')\n",
    "                    except requests.exceptions.RequestException as e:\n",
    "                        print(f\"Error al descargar el archivo {path} de ID {name_id}: {str(e)}\")\n",
    "\n",
    "        except:\n",
    "            print('no existe pdf ni txt en este doc')\n",
    "        limpiar_consola()\n",
    "    "
   ]
  },
  {
   "cell_type": "code",
   "execution_count": 14,
   "id": "1591cf44",
   "metadata": {},
   "outputs": [
    {
     "name": "stdout",
     "output_type": "stream",
     "text": [
      "50\n",
      "Archivo JSON creado exitosamente.\n"
     ]
    },
    {
     "name": "stderr",
     "output_type": "stream",
     "text": [
      "  6%|███▎                                                    | 3/51 [00:00<00:00, 2886.65elemento/s]"
     ]
    },
    {
     "name": "stdout",
     "output_type": "stream",
     "text": [
      "Trabajando en doc 34073066\n",
      "Trabajando en doc 33895688\n",
      "Trabajando en doc 33819085\n",
      "Trabajando en doc 33815260\n"
     ]
    },
    {
     "name": "stderr",
     "output_type": "stream",
     "text": [
      "\n"
     ]
    },
    {
     "ename": "KeyError",
     "evalue": "'repnb'",
     "output_type": "error",
     "traceback": [
      "\u001b[1;31m---------------------------------------------------------------------------\u001b[0m",
      "\u001b[1;31mKeyError\u001b[0m                                  Traceback (most recent call last)",
      "Input \u001b[1;32mIn [14]\u001b[0m, in \u001b[0;36m<module>\u001b[1;34m\u001b[0m\n\u001b[1;32m----> 1\u001b[0m \u001b[43mscraper_pdf\u001b[49m\u001b[43m(\u001b[49m\u001b[38;5;124;43m\"\u001b[39;49m\u001b[38;5;124;43mCM\u001b[39;49m\u001b[38;5;124;43m\"\u001b[39;49m\u001b[43m)\u001b[49m\n",
      "Input \u001b[1;32mIn [13]\u001b[0m, in \u001b[0;36mscraper_pdf\u001b[1;34m(cod_country)\u001b[0m\n\u001b[0;32m     56\u001b[0m name_id \u001b[38;5;241m=\u001b[39m obj[\u001b[38;5;124m'\u001b[39m\u001b[38;5;124mid\u001b[39m\u001b[38;5;124m'\u001b[39m] \u001b[38;5;66;03m# Él, id evitará obviar descargas.\u001b[39;00m\n\u001b[0;32m     57\u001b[0m \u001b[38;5;28mprint\u001b[39m(\u001b[38;5;124mf\u001b[39m\u001b[38;5;124m'\u001b[39m\u001b[38;5;124mTrabajando en doc \u001b[39m\u001b[38;5;132;01m{\u001b[39;00mname_id\u001b[38;5;132;01m}\u001b[39;00m\u001b[38;5;124m'\u001b[39m)\n\u001b[1;32m---> 59\u001b[0m name_repnb \u001b[38;5;241m=\u001b[39m \u001b[43mobj\u001b[49m\u001b[43m[\u001b[49m\u001b[38;5;124;43m'\u001b[39;49m\u001b[38;5;124;43mrepnb\u001b[39;49m\u001b[38;5;124;43m'\u001b[39;49m\u001b[43m]\u001b[49m\n\u001b[0;32m     60\u001b[0m extension_pdf \u001b[38;5;241m=\u001b[39m \u001b[38;5;124m'\u001b[39m\u001b[38;5;124m.pdf\u001b[39m\u001b[38;5;124m'\u001b[39m\n\u001b[0;32m     61\u001b[0m extension_txt \u001b[38;5;241m=\u001b[39m \u001b[38;5;124m'\u001b[39m\u001b[38;5;124m.txt\u001b[39m\u001b[38;5;124m'\u001b[39m\n",
      "\u001b[1;31mKeyError\u001b[0m: 'repnb'"
     ]
    }
   ],
   "source": [
    "scraper_pdf(\"CM\")"
   ]
  },
  {
   "cell_type": "code",
   "execution_count": null,
   "id": "516d62fc",
   "metadata": {},
   "outputs": [],
   "source": []
  }
 ],
 "metadata": {
  "kernelspec": {
   "display_name": "Python 3 (ipykernel)",
   "language": "python",
   "name": "python3"
  },
  "language_info": {
   "codemirror_mode": {
    "name": "ipython",
    "version": 3
   },
   "file_extension": ".py",
   "mimetype": "text/x-python",
   "name": "python",
   "nbconvert_exporter": "python",
   "pygments_lexer": "ipython3",
   "version": "3.11.3"
  },
  "nbTranslate": {
   "displayLangs": [
    "*"
   ],
   "hotkey": "alt-t",
   "langInMainMenu": true,
   "sourceLang": "en",
   "targetLang": "fr",
   "useGoogleTranslate": true
  },
  "varInspector": {
   "cols": {
    "lenName": 16,
    "lenType": 16,
    "lenVar": 40
   },
   "kernels_config": {
    "python": {
     "delete_cmd_postfix": "",
     "delete_cmd_prefix": "del ",
     "library": "var_list.py",
     "varRefreshCmd": "print(var_dic_list())"
    },
    "r": {
     "delete_cmd_postfix": ") ",
     "delete_cmd_prefix": "rm(",
     "library": "var_list.r",
     "varRefreshCmd": "cat(var_dic_list()) "
    }
   },
   "oldHeight": 339.844,
   "position": {
    "height": "361.844px",
    "left": "1090px",
    "right": "20px",
    "top": "-10px",
    "width": "800px"
   },
   "types_to_exclude": [
    "module",
    "function",
    "builtin_function_or_method",
    "instance",
    "_Feature"
   ],
   "varInspector_section_display": "block",
   "window_display": false
  }
 },
 "nbformat": 4,
 "nbformat_minor": 5
}
